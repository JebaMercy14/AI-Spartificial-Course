{
  "cells": [
    {
      "cell_type": "markdown",
      "metadata": {
        "id": "view-in-github",
        "colab_type": "text"
      },
      "source": [
        "<a href=\"https://colab.research.google.com/github/JebaMercy14/AI-Spartificial-Course/blob/main/Numpy_and_Arrays.ipynb\" target=\"_parent\"><img src=\"https://colab.research.google.com/assets/colab-badge.svg\" alt=\"Open In Colab\"/></a>"
      ]
    },
    {
      "cell_type": "markdown",
      "metadata": {
        "id": "SLmHlp-_IRz2"
      },
      "source": [
        "### **NumPy**\n",
        "\n",
        "1. NumPy is a Python library for scientific computing in Python. \n",
        "2. It contains a collection of tools and techniques that can be used to solve on a computer mathematical models of problems in Science and Engineering. \n",
        "3. One of these tools is a high-performance multidimensional array object that is a powerful data structure for efficient computation of arrays and matrices. \n",
        "4. To work with these arrays, there’s a vast amount of high-level mathematical functions operate on these matrices and arrays."
      ]
    },
    {
      "cell_type": "code",
      "execution_count": 1,
      "metadata": {
        "colab": {
          "base_uri": "https://localhost:8080/",
          "height": 35
        },
        "id": "uH9ihjhDIqZ0",
        "outputId": "7ca036e1-8e45-4200-be91-17b7adfa3fb5"
      },
      "outputs": [
        {
          "output_type": "execute_result",
          "data": {
            "text/plain": [
              "'1.21.6'"
            ],
            "application/vnd.google.colaboratory.intrinsic+json": {
              "type": "string"
            }
          },
          "metadata": {},
          "execution_count": 1
        }
      ],
      "source": [
        "import numpy as np \n",
        "np.__version__"
      ]
    },
    {
      "cell_type": "code",
      "execution_count": 2,
      "metadata": {
        "colab": {
          "base_uri": "https://localhost:8080/"
        },
        "id": "CzGjbeGgq_Eg",
        "outputId": "f3b63316-50b9-4364-f324-04c98ff65f2b"
      },
      "outputs": [
        {
          "output_type": "stream",
          "name": "stdout",
          "text": [
            "[[1 2 3 4]\n",
            " [5 6 7 8]]\n"
          ]
        }
      ],
      "source": [
        "# Make the array `my_array`\n",
        "my_array = np.array([[1,2,3,4], [5,6,7,8]], dtype=np.int64)\n",
        "\n",
        "# Print `my_array`\n",
        "print(my_array)"
      ]
    },
    {
      "cell_type": "code",
      "execution_count": 3,
      "metadata": {
        "id": "s8IAiCszJfN3"
      },
      "outputs": [],
      "source": [
        "# Create an array of ones\n",
        "a = np.ones((3,4))\n",
        "\n",
        "# Create an array of zeros\n",
        "b = np.zeros((2,3,4))\n",
        "\n",
        "# Create an array with random values\n",
        "c = np.random.random((2,2))\n",
        "\n",
        "# Create an empty array\n",
        "d = np.empty((3,2))\n",
        "\n",
        "# Create a full array\n",
        "e = np.full((2,2),7)\n",
        "\n",
        "# Create an array of evenly-spaced values\n",
        "f = np.arange(10,25,3)\n",
        "\n",
        "# Create an array of evenly-spaced values\n",
        "g = np.linspace(0,2,9)"
      ]
    },
    {
      "cell_type": "code",
      "execution_count": 4,
      "metadata": {
        "colab": {
          "base_uri": "https://localhost:8080/"
        },
        "id": "6NVVBRnxJpnN",
        "outputId": "c1b72f46-e7a8-4e00-e3db-473ddf3573a8"
      },
      "outputs": [
        {
          "output_type": "stream",
          "name": "stdout",
          "text": [
            "[[1. 1. 1. 1.]\n",
            " [1. 1. 1. 1.]\n",
            " [1. 1. 1. 1.]]\n",
            "[[[0. 0. 0. 0.]\n",
            "  [0. 0. 0. 0.]\n",
            "  [0. 0. 0. 0.]]\n",
            "\n",
            " [[0. 0. 0. 0.]\n",
            "  [0. 0. 0. 0.]\n",
            "  [0. 0. 0. 0.]]]\n",
            "[[0.01074134 0.86016003]\n",
            " [0.68033778 0.42858468]]\n",
            "[[1.8194849e-316 0.0000000e+000]\n",
            " [0.0000000e+000 0.0000000e+000]\n",
            " [0.0000000e+000 0.0000000e+000]]\n",
            "[[7 7]\n",
            " [7 7]]\n",
            "[10 13 16 19 22]\n",
            "[0.   0.25 0.5  0.75 1.   1.25 1.5  1.75 2.  ]\n"
          ]
        }
      ],
      "source": [
        "print(a)\n",
        "print(b)\n",
        "print(c)\n",
        "print(d)\n",
        "print(e)\n",
        "print(f)\n",
        "print(g)"
      ]
    },
    {
      "cell_type": "code",
      "execution_count": 5,
      "metadata": {
        "colab": {
          "base_uri": "https://localhost:8080/"
        },
        "id": "SJlRlHieKkA9",
        "outputId": "d7d262bd-0a87-4105-e768-2b7362289b6f"
      },
      "outputs": [
        {
          "output_type": "stream",
          "name": "stdout",
          "text": [
            "2\n",
            "12\n",
            "8\n",
            "96\n"
          ]
        }
      ],
      "source": [
        "# Print the number of `my_array`'s dimensions\n",
        "print(a.ndim)\n",
        "\n",
        "# Print the number of `my_array`'s elements\n",
        "print(a.size)\n",
        "\n",
        "# Print information about `my_array`'s memory layout\n",
        "#print(a.flags)\n",
        "\n",
        "# Print the length of one array element in bytes\n",
        "print(a.itemsize)\n",
        "\n",
        "# Print the total consumed bytes by `my_array`'s elements\n",
        "print(a.nbytes)"
      ]
    },
    {
      "cell_type": "code",
      "execution_count": 6,
      "metadata": {
        "colab": {
          "base_uri": "https://localhost:8080/"
        },
        "id": "9WCsqBqHK7X1",
        "outputId": "9925aaff-dad2-4252-a97e-a0de1ce2ca6f"
      },
      "outputs": [
        {
          "output_type": "stream",
          "name": "stdout",
          "text": [
            "3\n",
            "[[1. 1. 1. 1.]\n",
            " [1. 1. 1. 1.]\n",
            " [1. 1. 1. 1.]]\n"
          ]
        },
        {
          "output_type": "execute_result",
          "data": {
            "text/plain": [
              "array([[1., 1., 1., 1.],\n",
              "       [1., 1., 1., 1.],\n",
              "       [1., 1., 1., 1.]])"
            ]
          },
          "metadata": {},
          "execution_count": 6
        }
      ],
      "source": [
        "# Print the length of `my_array`\n",
        "print(len(a))\n",
        "\n",
        "print(a)\n",
        "\n",
        "# Change the data type of `my_array`\n",
        "a.astype(float)"
      ]
    },
    {
      "cell_type": "code",
      "execution_count": 7,
      "metadata": {
        "colab": {
          "base_uri": "https://localhost:8080/"
        },
        "id": "bZQtlHhPfNYR",
        "outputId": "bd2da043-9709-476f-c745-c8eca903c692"
      },
      "outputs": [
        {
          "output_type": "stream",
          "name": "stdout",
          "text": [
            "(3, 4)\n",
            "[[0.75436241 0.65457397 0.53805512 0.69186476]\n",
            " [0.29203257 0.10539849 0.07803391 0.5111308 ]\n",
            " [0.24217374 0.37110332 0.02540596 0.60573921]]\n",
            "(3, 4)\n"
          ]
        },
        {
          "output_type": "execute_result",
          "data": {
            "text/plain": [
              "array([[1.75436241, 1.65457397, 1.53805512, 1.69186476],\n",
              "       [1.29203257, 1.10539849, 1.07803391, 1.5111308 ],\n",
              "       [1.24217374, 1.37110332, 1.02540596, 1.60573921]])"
            ]
          },
          "metadata": {},
          "execution_count": 7
        }
      ],
      "source": [
        "# Initialize `x`\n",
        "x = np.ones((3,4))\n",
        "\n",
        "# Check shape of `x`\n",
        "print(x.shape)\n",
        "\n",
        "# Initialize `y`\n",
        "y = np.random.random((3,4))\n",
        "print(y)\n",
        "\n",
        "# Check shape of `y`\n",
        "print(y.shape)\n",
        "\n",
        "# Add `x` and `y`\n",
        "x + y"
      ]
    },
    {
      "cell_type": "code",
      "execution_count": 8,
      "metadata": {
        "colab": {
          "base_uri": "https://localhost:8080/"
        },
        "id": "oKpWEMFnfdyA",
        "outputId": "7d7e9e8c-89cf-421a-c57c-1f17ccc979fe"
      },
      "outputs": [
        {
          "output_type": "stream",
          "name": "stdout",
          "text": [
            "(3, 4)\n",
            "(4,)\n"
          ]
        },
        {
          "output_type": "execute_result",
          "data": {
            "text/plain": [
              "array([[ 1.,  0., -1., -2.],\n",
              "       [ 1.,  0., -1., -2.],\n",
              "       [ 1.,  0., -1., -2.]])"
            ]
          },
          "metadata": {},
          "execution_count": 8
        }
      ],
      "source": [
        "# Broadcasting works if one dimension of one of the numpy arrays is 1\n",
        "\n",
        "# Initialize `x`\n",
        "x = np.ones((3,4))\n",
        "\n",
        "# Check shape of `x`\n",
        "print(x.shape)\n",
        "\n",
        "# Initialize `y`\n",
        "y = np.arange(4)\n",
        "\n",
        "# Check shape of `y`\n",
        "print(y.shape)\n",
        "\n",
        "# Subtract `x` and `y`\n",
        "x - y "
      ]
    },
    {
      "cell_type": "code",
      "execution_count": 9,
      "metadata": {
        "colab": {
          "base_uri": "https://localhost:8080/"
        },
        "id": "tU3FgWozgGZA",
        "outputId": "bf254f42-5c88-414b-e2df-69a94d96e065"
      },
      "outputs": [
        {
          "output_type": "stream",
          "name": "stdout",
          "text": [
            "[[[72 64 16 47]]\n",
            "\n",
            " [[19 87 31 80]]\n",
            "\n",
            " [[47 71 31 61]]\n",
            "\n",
            " [[37 10 45 28]]\n",
            "\n",
            " [[67  2 45 59]]]\n",
            "(5, 3, 4)\n"
          ]
        },
        {
          "output_type": "execute_result",
          "data": {
            "text/plain": [
              "array([[[73., 65., 17., 48.],\n",
              "        [73., 65., 17., 48.],\n",
              "        [73., 65., 17., 48.]],\n",
              "\n",
              "       [[20., 88., 32., 81.],\n",
              "        [20., 88., 32., 81.],\n",
              "        [20., 88., 32., 81.]],\n",
              "\n",
              "       [[48., 72., 32., 62.],\n",
              "        [48., 72., 32., 62.],\n",
              "        [48., 72., 32., 62.]],\n",
              "\n",
              "       [[38., 11., 46., 29.],\n",
              "        [38., 11., 46., 29.],\n",
              "        [38., 11., 46., 29.]],\n",
              "\n",
              "       [[68.,  3., 46., 60.],\n",
              "        [68.,  3., 46., 60.],\n",
              "        [68.,  3., 46., 60.]]])"
            ]
          },
          "metadata": {},
          "execution_count": 9
        }
      ],
      "source": [
        "# The shape of the resulting array will again be the maximum size along each dimension of x and y\n",
        "\n",
        "# Initialize `x` and `y`\n",
        "x = np.ones((3, 4))\n",
        "#print(x)\n",
        "\n",
        "# y = np.random.random((5, 1, 4))\n",
        "y = np.random.randint(1, 100, size=(5,1,4))\n",
        "print(y)\n",
        "\n",
        "# Add `x` and `y`\n",
        "z = x + y\n",
        "print(z.shape)\n",
        "z"
      ]
    },
    {
      "cell_type": "code",
      "execution_count": 10,
      "metadata": {
        "id": "yHfBH-MUluNI",
        "colab": {
          "base_uri": "https://localhost:8080/"
        },
        "outputId": "abf4b0ad-348f-4f25-afa9-923de64aeb1c"
      },
      "outputs": [
        {
          "output_type": "stream",
          "name": "stdout",
          "text": [
            "[[[73. 65. 17. 48.]\n",
            "  [73. 65. 17. 48.]\n",
            "  [73. 65. 17. 48.]]\n",
            "\n",
            " [[20. 88. 32. 81.]\n",
            "  [20. 88. 32. 81.]\n",
            "  [20. 88. 32. 81.]]\n",
            "\n",
            " [[48. 72. 32. 62.]\n",
            "  [48. 72. 32. 62.]\n",
            "  [48. 72. 32. 62.]]\n",
            "\n",
            " [[38. 11. 46. 29.]\n",
            "  [38. 11. 46. 29.]\n",
            "  [38. 11. 46. 29.]]\n",
            "\n",
            " [[68.  3. 46. 60.]\n",
            "  [68.  3. 46. 60.]\n",
            "  [68.  3. 46. 60.]]]\n",
            "[[[-71. -63. -15. -46.]\n",
            "  [-71. -63. -15. -46.]\n",
            "  [-71. -63. -15. -46.]]\n",
            "\n",
            " [[-18. -86. -30. -79.]\n",
            "  [-18. -86. -30. -79.]\n",
            "  [-18. -86. -30. -79.]]\n",
            "\n",
            " [[-46. -70. -30. -60.]\n",
            "  [-46. -70. -30. -60.]\n",
            "  [-46. -70. -30. -60.]]\n",
            "\n",
            " [[-36.  -9. -44. -27.]\n",
            "  [-36.  -9. -44. -27.]\n",
            "  [-36.  -9. -44. -27.]]\n",
            "\n",
            " [[-66.  -1. -44. -58.]\n",
            "  [-66.  -1. -44. -58.]\n",
            "  [-66.  -1. -44. -58.]]]\n",
            "[[[72. 64. 16. 47.]\n",
            "  [72. 64. 16. 47.]\n",
            "  [72. 64. 16. 47.]]\n",
            "\n",
            " [[19. 87. 31. 80.]\n",
            "  [19. 87. 31. 80.]\n",
            "  [19. 87. 31. 80.]]\n",
            "\n",
            " [[47. 71. 31. 61.]\n",
            "  [47. 71. 31. 61.]\n",
            "  [47. 71. 31. 61.]]\n",
            "\n",
            " [[37. 10. 45. 28.]\n",
            "  [37. 10. 45. 28.]\n",
            "  [37. 10. 45. 28.]]\n",
            "\n",
            " [[67.  2. 45. 59.]\n",
            "  [67.  2. 45. 59.]\n",
            "  [67.  2. 45. 59.]]]\n",
            "[[[0.01388889 0.015625   0.0625     0.0212766 ]\n",
            "  [0.01388889 0.015625   0.0625     0.0212766 ]\n",
            "  [0.01388889 0.015625   0.0625     0.0212766 ]]\n",
            "\n",
            " [[0.05263158 0.01149425 0.03225806 0.0125    ]\n",
            "  [0.05263158 0.01149425 0.03225806 0.0125    ]\n",
            "  [0.05263158 0.01149425 0.03225806 0.0125    ]]\n",
            "\n",
            " [[0.0212766  0.01408451 0.03225806 0.01639344]\n",
            "  [0.0212766  0.01408451 0.03225806 0.01639344]\n",
            "  [0.0212766  0.01408451 0.03225806 0.01639344]]\n",
            "\n",
            " [[0.02702703 0.1        0.02222222 0.03571429]\n",
            "  [0.02702703 0.1        0.02222222 0.03571429]\n",
            "  [0.02702703 0.1        0.02222222 0.03571429]]\n",
            "\n",
            " [[0.01492537 0.5        0.02222222 0.01694915]\n",
            "  [0.01492537 0.5        0.02222222 0.01694915]\n",
            "  [0.01492537 0.5        0.02222222 0.01694915]]]\n",
            "[[[1. 1. 1. 1.]\n",
            "  [1. 1. 1. 1.]\n",
            "  [1. 1. 1. 1.]]\n",
            "\n",
            " [[1. 1. 1. 1.]\n",
            "  [1. 1. 1. 1.]\n",
            "  [1. 1. 1. 1.]]\n",
            "\n",
            " [[1. 1. 1. 1.]\n",
            "  [1. 1. 1. 1.]\n",
            "  [1. 1. 1. 1.]]\n",
            "\n",
            " [[1. 1. 1. 1.]\n",
            "  [1. 1. 1. 1.]\n",
            "  [1. 1. 1. 1.]]\n",
            "\n",
            " [[1. 1. 1. 1.]\n",
            "  [1. 1. 1. 1.]\n",
            "  [1. 1. 1. 1.]]]\n"
          ]
        }
      ],
      "source": [
        "# Add `x` and `y`\n",
        "sum = np.add(x,y)\n",
        "print(sum)\n",
        "\n",
        "# Subtract `x` and `y`\n",
        "diff = np.subtract(x,y)\n",
        "print(diff)\n",
        "\n",
        "# Multiply `x` and `y`\n",
        "prod = np.multiply(x,y)\n",
        "print(prod)\n",
        "\n",
        "# Divide `x` and `y`\n",
        "quo = np.divide(x,y)\n",
        "print(quo)\n",
        "\n",
        "# Calculate the remainder of `x` and `y`\n",
        "rem = np.remainder(x,y)\n",
        "print(rem)"
      ]
    },
    {
      "cell_type": "code",
      "execution_count": 11,
      "metadata": {
        "colab": {
          "base_uri": "https://localhost:8080/"
        },
        "id": "-8p3F_r9nFBY",
        "outputId": "fcb38e14-c65c-4954-cd47-8d6824f32687"
      },
      "outputs": [
        {
          "output_type": "stream",
          "name": "stdout",
          "text": [
            "[[1. 1. 1. 1.]\n",
            " [1. 1. 1. 1.]\n",
            " [1. 1. 1. 1.]]\n",
            "1.0\n",
            "12.0\n",
            "[1. 1. 1. 1.]\n",
            "[[1. 2. 3. 4.]\n",
            " [1. 2. 3. 4.]\n",
            " [1. 2. 3. 4.]]\n",
            "1.0\n",
            "0.0\n"
          ]
        }
      ],
      "source": [
        "print(x)\n",
        "print(x.min())\n",
        "print(x.sum())\n",
        "print(x.max(axis=0))\n",
        "print(x.cumsum(axis=1))\n",
        "print(x.mean())\n",
        "print(np.std(a))"
      ]
    },
    {
      "cell_type": "code",
      "execution_count": 12,
      "metadata": {
        "colab": {
          "base_uri": "https://localhost:8080/"
        },
        "id": "4nSU831LouaI",
        "outputId": "369bfbd3-6ef4-4041-9006-eb21bdb5a27e"
      },
      "outputs": [
        {
          "output_type": "execute_result",
          "data": {
            "text/plain": [
              "array([[[0., 0., 0., 0.],\n",
              "        [0., 0., 0., 0.],\n",
              "        [0., 0., 0., 0.]],\n",
              "\n",
              "       [[0., 0., 0., 0.],\n",
              "        [0., 0., 0., 0.],\n",
              "        [0., 0., 0., 0.]]])"
            ]
          },
          "metadata": {},
          "execution_count": 12
        }
      ],
      "source": [
        "# `a` AND `b` \n",
        "np.logical_and(a, b)\n",
        "\n",
        "# `a` OR `b` \n",
        "np.logical_or(a, b)\n",
        "\n",
        "# `a` NOT `b` \n",
        "np.logical_not(a,b)"
      ]
    },
    {
      "cell_type": "markdown",
      "metadata": {
        "id": "rT9nUzEno8N4"
      },
      "source": [
        "## Subset, slice, index arrays"
      ]
    },
    {
      "cell_type": "code",
      "execution_count": 13,
      "metadata": {
        "colab": {
          "base_uri": "https://localhost:8080/"
        },
        "id": "gv1Hifc_tVmm",
        "outputId": "8f72a980-7ec2-4818-82d5-b4f6ececd146"
      },
      "outputs": [
        {
          "output_type": "stream",
          "name": "stdout",
          "text": [
            "[[1 2 3 4]\n",
            " [5 6 7 8]]\n",
            "2\n"
          ]
        }
      ],
      "source": [
        "# Make the array `my_array`\n",
        "my_2d_array = np.array([[1,2,3,4], [5,6,7,8]], dtype=np.int64)\n",
        "\n",
        "# Print `my_array`\n",
        "print(my_2d_array)\n",
        "print(my_2d_array.ndim)"
      ]
    },
    {
      "cell_type": "code",
      "execution_count": 14,
      "metadata": {
        "colab": {
          "base_uri": "https://localhost:8080/"
        },
        "id": "bOsNxf4OtyAY",
        "outputId": "9ec7227f-1954-4236-9ad4-b6cf0f5504df"
      },
      "outputs": [
        {
          "output_type": "stream",
          "name": "stdout",
          "text": [
            "3\n",
            "[[[82 59 57  9]\n",
            "  [99  8 27 22]]\n",
            "\n",
            " [[81 96 82 77]\n",
            "  [41 83 45  9]]\n",
            "\n",
            " [[91 77 67 22]\n",
            "  [19 15 43 87]]\n",
            "\n",
            " [[80 60 51 50]\n",
            "  [70 42 83 13]]\n",
            "\n",
            " [[74 68 20 30]\n",
            "  [96 69 83 83]]]\n"
          ]
        }
      ],
      "source": [
        "my_3d_array = np.random.randint(1, 100, size=(5,2,4))\n",
        "print(my_3d_array.ndim)\n",
        "print(my_3d_array)"
      ]
    },
    {
      "cell_type": "code",
      "execution_count": 15,
      "metadata": {
        "colab": {
          "base_uri": "https://localhost:8080/"
        },
        "id": "rEaVo3TstlkY",
        "outputId": "5b2381ac-07f2-4e57-9e18-abc6933f1133"
      },
      "outputs": [
        {
          "output_type": "stream",
          "name": "stdout",
          "text": [
            "7\n",
            "7\n",
            "45\n"
          ]
        }
      ],
      "source": [
        "# Select the element at row 1 column 2\n",
        "print(my_2d_array[1][2])\n",
        "\n",
        "# Select the element at row 1 column 2\n",
        "print(my_2d_array[1,2])\n",
        "\n",
        "# Select the element at row 1, column 2 and \n",
        "print(my_3d_array[1,1,2])"
      ]
    },
    {
      "cell_type": "code",
      "execution_count": 16,
      "metadata": {
        "colab": {
          "base_uri": "https://localhost:8080/"
        },
        "id": "woNtY-X0u0Gw",
        "outputId": "6f833a12-8028-4777-d4dd-62662c122c07"
      },
      "outputs": [
        {
          "output_type": "stream",
          "name": "stdout",
          "text": [
            "[[1 2 3 4]\n",
            " [5 6 7 8]]\n",
            "[2 6]\n",
            "[[81 96 82 77]\n",
            " [41 83 45  9]]\n"
          ]
        }
      ],
      "source": [
        "# Select items at index 0 and 1\n",
        "print(my_2d_array[0:2])\n",
        "\n",
        "# Select items at row 0 and 1, column 1\n",
        "print(my_2d_array[0:2,1])\n",
        "\n",
        "# Select items at row 1\n",
        "# This is the same as saying `my_3d_array[1,:,:]\n",
        "print(my_3d_array[1,...])"
      ]
    },
    {
      "cell_type": "code",
      "execution_count": 17,
      "metadata": {
        "colab": {
          "base_uri": "https://localhost:8080/"
        },
        "id": "vNpksaG4u7YK",
        "outputId": "fbfe1d97-a0a9-4168-e419-d5876f4971a4"
      },
      "outputs": [
        {
          "output_type": "stream",
          "name": "stdout",
          "text": [
            "[1]\n",
            "[82 59 57  9 99  8 27 22 81 96 82 77 41 83 45  9 91 77 67 22 19 15 43 87\n",
            " 80 60 51 50 70 42 83 13 74 68 20 30 96 69 83 83]\n"
          ]
        }
      ],
      "source": [
        "# Try out a simple example\n",
        "print(my_2d_array[my_2d_array<2])\n",
        "\n",
        "# Specify a condition\n",
        "bigger_than_3 = (my_3d_array >= 3)\n",
        "\n",
        "# Use the condition to index our 3d array\n",
        "print(my_3d_array[bigger_than_3])"
      ]
    },
    {
      "cell_type": "code",
      "execution_count": 18,
      "metadata": {
        "colab": {
          "base_uri": "https://localhost:8080/"
        },
        "id": "vZT-wDzTvZOY",
        "outputId": "58026ca2-a2ed-4f11-bd41-f1b3b3031d63"
      },
      "outputs": [
        {
          "output_type": "stream",
          "name": "stdout",
          "text": [
            "[[[72 64 16 47]]\n",
            "\n",
            " [[19 87 31 80]]\n",
            "\n",
            " [[47 71 31 61]]\n",
            "\n",
            " [[37 10 45 28]]\n",
            "\n",
            " [[67  2 45 59]]]\n",
            "[[[19  2 16 28]]\n",
            "\n",
            " [[37 10 31 47]]\n",
            "\n",
            " [[47 64 31 59]]\n",
            "\n",
            " [[67 71 45 61]]\n",
            "\n",
            " [[72 87 45 80]]]\n",
            "[[[72 19 47 37 67]]\n",
            "\n",
            " [[64 87 71 10  2]]\n",
            "\n",
            " [[16 31 31 45 45]]\n",
            "\n",
            " [[47 80 61 28 59]]]\n",
            "[[[72 19 47 37 67]]\n",
            "\n",
            " [[64 87 71 10  2]]\n",
            "\n",
            " [[16 31 31 45 45]]\n",
            "\n",
            " [[47 80 61 28 59]]]\n"
          ]
        }
      ],
      "source": [
        "print(y)\n",
        "print(np.sort(y, axis = 0))\n",
        "print(y.transpose())\n",
        "print(y.T)"
      ]
    },
    {
      "cell_type": "code",
      "execution_count": 19,
      "metadata": {
        "colab": {
          "base_uri": "https://localhost:8080/"
        },
        "id": "kHmSA9aLv82g",
        "outputId": "6820bb39-864c-44a4-dedb-3163ddd43fc9"
      },
      "outputs": [
        {
          "output_type": "stream",
          "name": "stdout",
          "text": [
            "[1 2 3 4 5 6]\n",
            "[1 2 3 4 5 6]\n"
          ]
        }
      ],
      "source": [
        "first = np.array([1, 2, 3])\n",
        "second = np.array([4, 5, 6])\n",
        "\n",
        "import numpy.ma as ma\n",
        "\n",
        "con = ma.concatenate([first, second])\n",
        "print(con.data)\n",
        "\n",
        "print(ma.concatenate([first, second]))"
      ]
    },
    {
      "cell_type": "code",
      "execution_count": 20,
      "metadata": {
        "id": "vfmj4hpfw-R5"
      },
      "outputs": [],
      "source": [
        "square = np.array([\n",
        "    [16, 3, 2, 13],\n",
        "    [5, 10, 11, 8],\n",
        "    [9, 6, 7, 12],\n",
        "    [4, 15, 14, 1]\n",
        "])\n",
        "\n",
        "for i in range(4):\n",
        "    assert square[:, i].sum() == 34\n",
        "    assert square[i, :].sum() == 34\n",
        "\n",
        "\n",
        "assert square[:2, :2].sum() == 34\n",
        "\n",
        "assert square[2:, :2].sum() == 34\n",
        "\n",
        "assert square[:2, 2:].sum() == 34\n",
        "\n",
        "assert square[2:, 2:].sum() == 34"
      ]
    },
    {
      "cell_type": "code",
      "execution_count": 21,
      "metadata": {
        "colab": {
          "base_uri": "https://localhost:8080/"
        },
        "id": "WJ55rVbBxTjf",
        "outputId": "2aa83aa8-18b8-4fb9-e145-2f79da994004"
      },
      "outputs": [
        {
          "output_type": "execute_result",
          "data": {
            "text/plain": [
              "array([[ 9,  6],\n",
              "       [ 4, 15]])"
            ]
          },
          "metadata": {},
          "execution_count": 21
        }
      ],
      "source": [
        "square[2:, :2]"
      ]
    },
    {
      "cell_type": "code",
      "execution_count": 22,
      "metadata": {
        "colab": {
          "base_uri": "https://localhost:8080/"
        },
        "id": "ZBfmcZnafYMk",
        "outputId": "3c798afe-4bf7-4baa-e871-f15a804e98b6"
      },
      "outputs": [
        {
          "output_type": "execute_result",
          "data": {
            "text/plain": [
              "array([[ 5,  6,  8, 10, 12, 14],\n",
              "       [16, 18, 20, 22, 24, 26],\n",
              "       [28, 30, 32, 34, 36, 38],\n",
              "       [40, 42, 44, 46, 48, 50]])"
            ]
          },
          "metadata": {},
          "execution_count": 22
        }
      ],
      "source": [
        "numbers = np.linspace(5, 50, 24, dtype=int).reshape(4, -1)\n",
        "\n",
        "numbers"
      ]
    },
    {
      "cell_type": "code",
      "execution_count": 23,
      "metadata": {
        "colab": {
          "base_uri": "https://localhost:8080/"
        },
        "id": "CudUfBLnfhGM",
        "outputId": "b40e874c-dbed-4eca-842d-b1326a95e3a9"
      },
      "outputs": [
        {
          "output_type": "execute_result",
          "data": {
            "text/plain": [
              "array([[False, False,  True, False,  True, False],\n",
              "       [ True, False,  True, False,  True, False],\n",
              "       [ True, False,  True, False,  True, False],\n",
              "       [ True, False,  True, False,  True, False]])"
            ]
          },
          "metadata": {},
          "execution_count": 23
        }
      ],
      "source": [
        "mask = numbers % 4 == 0\n",
        "mask"
      ]
    },
    {
      "cell_type": "code",
      "execution_count": 24,
      "metadata": {
        "colab": {
          "base_uri": "https://localhost:8080/"
        },
        "id": "vrS4uj_-fk3M",
        "outputId": "a3ffa43f-5b2c-40a6-953c-b9a0ff02778a"
      },
      "outputs": [
        {
          "output_type": "execute_result",
          "data": {
            "text/plain": [
              "array([ 8, 12, 16, 20, 24, 28, 32, 36, 40, 44, 48])"
            ]
          },
          "metadata": {},
          "execution_count": 24
        }
      ],
      "source": [
        "numbers[mask]"
      ]
    },
    {
      "cell_type": "code",
      "execution_count": 25,
      "metadata": {
        "id": "XYEP1CDrfpVm"
      },
      "outputs": [],
      "source": [
        "by_four = numbers[numbers % 4 == 0]"
      ]
    },
    {
      "cell_type": "code",
      "execution_count": 26,
      "metadata": {
        "id": "RD2dBSvFgHOE"
      },
      "outputs": [],
      "source": [
        "from numpy.random import default_rng\n",
        "\n",
        "rng = default_rng()"
      ]
    },
    {
      "cell_type": "code",
      "execution_count": 27,
      "metadata": {
        "id": "d3G0KlyxgMED"
      },
      "outputs": [],
      "source": [
        "values = rng.standard_normal(10000)"
      ]
    },
    {
      "cell_type": "code",
      "execution_count": 28,
      "metadata": {
        "colab": {
          "base_uri": "https://localhost:8080/"
        },
        "id": "aRsSFL0YgRDc",
        "outputId": "98984284-e30b-49ba-a291-59b83b260d7d"
      },
      "outputs": [
        {
          "output_type": "execute_result",
          "data": {
            "text/plain": [
              "array([-1.12015286, -3.49772061,  2.25046262,  0.61332487, -0.08561112])"
            ]
          },
          "metadata": {},
          "execution_count": 28
        }
      ],
      "source": [
        "values[:5]"
      ]
    },
    {
      "cell_type": "code",
      "execution_count": 29,
      "metadata": {
        "colab": {
          "base_uri": "https://localhost:8080/"
        },
        "id": "5UBDHVebgUYz",
        "outputId": "4a520b64-9654-4779-d3f3-40ec66f445bc"
      },
      "outputs": [
        {
          "output_type": "execute_result",
          "data": {
            "text/plain": [
              "1.0053930070598773"
            ]
          },
          "metadata": {},
          "execution_count": 29
        }
      ],
      "source": [
        "std = values.std()\n",
        "std"
      ]
    },
    {
      "cell_type": "code",
      "execution_count": 30,
      "metadata": {
        "id": "Vb7Sb7lPgajG"
      },
      "outputs": [],
      "source": [
        "filtered = values[(values > -2 * std) & (values < 2 * std)]"
      ]
    },
    {
      "cell_type": "code",
      "execution_count": 31,
      "metadata": {
        "colab": {
          "base_uri": "https://localhost:8080/"
        },
        "id": "RrXZ7O2mgdBL",
        "outputId": "bff281a3-3b9c-41d6-deb8-c5e071c83e3a"
      },
      "outputs": [
        {
          "output_type": "execute_result",
          "data": {
            "text/plain": [
              "0.9591"
            ]
          },
          "metadata": {},
          "execution_count": 31
        }
      ],
      "source": [
        "filtered.size / values.size"
      ]
    },
    {
      "cell_type": "code",
      "execution_count": 32,
      "metadata": {
        "colab": {
          "base_uri": "https://localhost:8080/"
        },
        "id": "Dw3lQ3lEhHA0",
        "outputId": "42682ea3-b74f-40a3-f834-94b485bd4961"
      },
      "outputs": [
        {
          "output_type": "stream",
          "name": "stdout",
          "text": [
            "[array([1, 2]), array([3, 4]), array([5, 6])]\n"
          ]
        }
      ],
      "source": [
        "arr = np.array([1, 2, 3, 4, 5, 6])\n",
        "\n",
        "newarr = np.array_split(arr, 3)\n",
        "\n",
        "print(newarr)"
      ]
    },
    {
      "cell_type": "code",
      "execution_count": 33,
      "metadata": {
        "colab": {
          "base_uri": "https://localhost:8080/"
        },
        "id": "P9jyiuOihRMd",
        "outputId": "df7739a3-91d1-4dcf-91d6-d3d5f33483b0"
      },
      "outputs": [
        {
          "output_type": "stream",
          "name": "stdout",
          "text": [
            "[[1 2]\n",
            " [3 4]]\n",
            "[[5 6]\n",
            " [7 8]]\n",
            "[[ 9 10]\n",
            " [11 12]]\n"
          ]
        }
      ],
      "source": [
        "arr = np.array([[1, 2], [3, 4], [5, 6], [7, 8], [9, 10], [11, 12]])\n",
        "\n",
        "newarr = np.array_split(arr, 3)\n",
        "\n",
        "print(newarr[0])\n",
        "print(newarr[1])\n",
        "print(newarr[2])\n"
      ]
    },
    {
      "cell_type": "code",
      "execution_count": 34,
      "metadata": {
        "id": "-Ypj9VunhaUU",
        "colab": {
          "base_uri": "https://localhost:8080/"
        },
        "outputId": "6d138829-9e60-4b14-8d21-ce51a397cb3b"
      },
      "outputs": [
        {
          "output_type": "stream",
          "name": "stdout",
          "text": [
            "[[ 1  2  3]\n",
            " [ 4  5  6]\n",
            " [ 7  8  9]\n",
            " [10 11 12]\n",
            " [13 14 15]\n",
            " [16 17 18]]\n",
            "[[ 1]\n",
            " [ 4]\n",
            " [ 7]\n",
            " [10]\n",
            " [13]\n",
            " [16]]\n",
            "[[ 2]\n",
            " [ 5]\n",
            " [ 8]\n",
            " [11]\n",
            " [14]\n",
            " [17]]\n",
            "[[ 3]\n",
            " [ 6]\n",
            " [ 9]\n",
            " [12]\n",
            " [15]\n",
            " [18]]\n"
          ]
        }
      ],
      "source": [
        "# split along rows\n",
        "\n",
        "arr = np.array([[1, 2, 3], [4, 5, 6], [7, 8, 9], [10, 11, 12], [13, 14, 15], [16, 17, 18]])\n",
        "\n",
        "newarr = np.array_split(arr, 3, axis=1)\n",
        "# newarr = np.array_split(arr, 3)\n",
        "\n",
        "print(arr)\n",
        "print(newarr[0])\n",
        "print(newarr[1])\n",
        "print(newarr[2])\n"
      ]
    },
    {
      "cell_type": "code",
      "execution_count": 35,
      "metadata": {
        "id": "lNeHAtcthsb0",
        "colab": {
          "base_uri": "https://localhost:8080/"
        },
        "outputId": "149fa3a1-5ff1-451b-dd65-d776a81de4c6"
      },
      "outputs": [
        {
          "output_type": "stream",
          "name": "stdout",
          "text": [
            "[[ 1]\n",
            " [ 4]\n",
            " [ 7]\n",
            " [10]\n",
            " [13]\n",
            " [16]]\n",
            "[[ 2]\n",
            " [ 5]\n",
            " [ 8]\n",
            " [11]\n",
            " [14]\n",
            " [17]]\n",
            "[[ 3]\n",
            " [ 6]\n",
            " [ 9]\n",
            " [12]\n",
            " [15]\n",
            " [18]]\n"
          ]
        }
      ],
      "source": [
        "arr = np.array([[1, 2, 3], [4, 5, 6], [7, 8, 9], [10, 11, 12], [13, 14, 15], [16, 17, 18]])\n",
        "\n",
        "newarr = np.hsplit(arr, 3)\n",
        "\n",
        "print(newarr[0])\n",
        "print(newarr[1])\n",
        "print(newarr[2])\n"
      ]
    },
    {
      "cell_type": "code",
      "execution_count": 36,
      "metadata": {
        "colab": {
          "base_uri": "https://localhost:8080/"
        },
        "id": "_crQAmNxhznN",
        "outputId": "39d3adb8-4158-4739-c095-e319c9f230e7"
      },
      "outputs": [
        {
          "output_type": "stream",
          "name": "stdout",
          "text": [
            "[1 2 3 4 5 6]\n"
          ]
        }
      ],
      "source": [
        "## JOIN\n",
        "\n",
        "arr1 = np.array([1, 2, 3])\n",
        "\n",
        "arr2 = np.array([4, 5, 6])\n",
        "\n",
        "arr = np.concatenate((arr1, arr2))\n",
        "\n",
        "print(arr)"
      ]
    },
    {
      "cell_type": "code",
      "execution_count": 37,
      "metadata": {
        "colab": {
          "base_uri": "https://localhost:8080/"
        },
        "id": "s6w4LwR3h4FG",
        "outputId": "ddb30d24-ce1c-4036-d045-27465808468a"
      },
      "outputs": [
        {
          "output_type": "stream",
          "name": "stdout",
          "text": [
            "[[1 2 5 6]\n",
            " [3 4 7 8]]\n"
          ]
        }
      ],
      "source": [
        "arr1 = np.array([[1, 2], [3, 4]])\n",
        "\n",
        "arr2 = np.array([[5, 6], [7, 8]])\n",
        "\n",
        "arr = np.concatenate((arr1, arr2), axis=1)\n",
        "\n",
        "print(arr)"
      ]
    },
    {
      "cell_type": "code",
      "execution_count": 38,
      "metadata": {
        "colab": {
          "base_uri": "https://localhost:8080/"
        },
        "id": "rA-fhiq-h_4D",
        "outputId": "02d7b041-4ad1-4cea-f5f0-7f2b1782eb6f"
      },
      "outputs": [
        {
          "output_type": "stream",
          "name": "stdout",
          "text": [
            "[[1 4]\n",
            " [2 5]\n",
            " [3 6]]\n"
          ]
        }
      ],
      "source": [
        "arr1 = np.array([1, 2, 3])\n",
        "\n",
        "arr2 = np.array([4, 5, 6])\n",
        "\n",
        "arr = np.stack((arr1, arr2), axis=1)\n",
        "\n",
        "print(arr)"
      ]
    },
    {
      "cell_type": "code",
      "execution_count": 39,
      "metadata": {
        "colab": {
          "base_uri": "https://localhost:8080/"
        },
        "id": "FB9nt0BgiFqz",
        "outputId": "c0a9e855-47a1-4fa3-84b8-58db53ed76e9"
      },
      "outputs": [
        {
          "output_type": "stream",
          "name": "stdout",
          "text": [
            "[1 2 3 4 5 6]\n"
          ]
        }
      ],
      "source": [
        "arr1 = np.array([1, 2, 3])\n",
        "\n",
        "arr2 = np.array([4, 5, 6])\n",
        "\n",
        "arr = np.hstack((arr1, arr2))\n",
        "\n",
        "print(arr)"
      ]
    },
    {
      "cell_type": "code",
      "execution_count": 40,
      "metadata": {
        "colab": {
          "base_uri": "https://localhost:8080/"
        },
        "id": "-2R1mg83iI6M",
        "outputId": "ed531376-188a-4778-97b8-0964874c8546"
      },
      "outputs": [
        {
          "output_type": "stream",
          "name": "stdout",
          "text": [
            "[[1 2 3]\n",
            " [4 5 6]]\n"
          ]
        }
      ],
      "source": [
        "arr1 = np.array([1, 2, 3])\n",
        "\n",
        "arr2 = np.array([4, 5, 6])\n",
        "\n",
        "arr = np.vstack((arr1, arr2))\n",
        "\n",
        "print(arr)"
      ]
    },
    {
      "cell_type": "code",
      "execution_count": 41,
      "metadata": {
        "colab": {
          "base_uri": "https://localhost:8080/"
        },
        "id": "erHvM9U1iMit",
        "outputId": "6525c380-19bb-47e6-8688-5b082eb482f1"
      },
      "outputs": [
        {
          "output_type": "stream",
          "name": "stdout",
          "text": [
            "[[[1 4]\n",
            "  [2 5]\n",
            "  [3 6]]]\n"
          ]
        }
      ],
      "source": [
        "arr1 = np.array([1, 2, 3])\n",
        "\n",
        "arr2 = np.array([4, 5, 6])\n",
        "\n",
        "arr = np.dstack((arr1, arr2))\n",
        "\n",
        "print(arr)"
      ]
    },
    {
      "cell_type": "code",
      "execution_count": 42,
      "metadata": {
        "colab": {
          "base_uri": "https://localhost:8080/"
        },
        "id": "8hjBkuiLibr0",
        "outputId": "0028772d-ded3-4cfb-f16b-53b8a5e29231"
      },
      "outputs": [
        {
          "output_type": "execute_result",
          "data": {
            "text/plain": [
              "array([[37, 40],\n",
              "       [85, 92]])"
            ]
          },
          "metadata": {},
          "execution_count": 42
        }
      ],
      "source": [
        "a = np.array([[1,2],[3,4]]) \n",
        "b = np.array([[11,12],[13,14]]) \n",
        "np.dot(a,b)\n",
        "\n",
        "# [[1*11+2*13, 1*12+2*14],[3*11+4*13, 3*12+4*14]]"
      ]
    },
    {
      "cell_type": "code",
      "execution_count": 43,
      "metadata": {
        "colab": {
          "base_uri": "https://localhost:8080/"
        },
        "id": "GLuRnn4Zinhc",
        "outputId": "3b3399dc-8237-4ac2-82b4-9a94ad83961e"
      },
      "outputs": [
        {
          "output_type": "execute_result",
          "data": {
            "text/plain": [
              "130"
            ]
          },
          "metadata": {},
          "execution_count": 43
        }
      ],
      "source": [
        "a = np.array([[1,2],[3,4]]) \n",
        "b = np.array([[11,12],[13,14]]) \n",
        "np.vdot(a,b)\n",
        "\n",
        "# 1*11 + 2*12 + 3*13 + 4*14 = 130"
      ]
    },
    {
      "cell_type": "markdown",
      "metadata": {
        "id": "tjIb1F4_jN65"
      },
      "source": [
        "Bit-wise ops"
      ]
    },
    {
      "cell_type": "code",
      "execution_count": 44,
      "metadata": {
        "colab": {
          "base_uri": "https://localhost:8080/"
        },
        "id": "FY_X4nhHi4sl",
        "outputId": "b5034dbc-309c-4f5b-f1d5-e55a4c4f931d"
      },
      "outputs": [
        {
          "output_type": "stream",
          "name": "stdout",
          "text": [
            "0b1101\n",
            "0b10001\n",
            "1\n"
          ]
        }
      ],
      "source": [
        "a,b = 13,17 \n",
        "print(bin(a))\n",
        "print(bin(b))\n",
        "\n",
        "print(np.bitwise_and(13, 17))"
      ]
    },
    {
      "cell_type": "code",
      "execution_count": 45,
      "metadata": {
        "colab": {
          "base_uri": "https://localhost:8080/"
        },
        "id": "9X_zOEKYjNF8",
        "outputId": "463d089b-4cec-4ce8-b81f-39e9c72dc568"
      },
      "outputs": [
        {
          "output_type": "execute_result",
          "data": {
            "text/plain": [
              "29"
            ]
          },
          "metadata": {},
          "execution_count": 45
        }
      ],
      "source": [
        "np.bitwise_or(13, 17)"
      ]
    },
    {
      "cell_type": "code",
      "execution_count": 46,
      "metadata": {
        "colab": {
          "base_uri": "https://localhost:8080/",
          "height": 35
        },
        "id": "gdJlepuUjVFL",
        "outputId": "75151b8a-3487-487f-a2a3-be9b2d7b9ba6"
      },
      "outputs": [
        {
          "output_type": "execute_result",
          "data": {
            "text/plain": [
              "'11110010'"
            ],
            "application/vnd.google.colaboratory.intrinsic+json": {
              "type": "string"
            }
          },
          "metadata": {},
          "execution_count": 46
        }
      ],
      "source": [
        "np.invert(np.array([13], dtype = np.uint8)) \n",
        "np.binary_repr(13, width = 8) \n",
        "np.binary_repr(242, width = 8)"
      ]
    },
    {
      "cell_type": "code",
      "execution_count": 47,
      "metadata": {
        "colab": {
          "base_uri": "https://localhost:8080/",
          "height": 122
        },
        "id": "FRSMB_vxjtW7",
        "outputId": "b7d6283e-6ca4-44d8-d63d-e0e221548e66"
      },
      "outputs": [
        {
          "output_type": "stream",
          "name": "stdout",
          "text": [
            "Left shift of 10 by two positions:\n",
            "40\n",
            "Binary representation of 10:\n",
            "00001010\n",
            "Binary representation of 40:\n"
          ]
        },
        {
          "output_type": "execute_result",
          "data": {
            "text/plain": [
              "'00101000'"
            ],
            "application/vnd.google.colaboratory.intrinsic+json": {
              "type": "string"
            }
          },
          "metadata": {},
          "execution_count": 47
        }
      ],
      "source": [
        "print('Left shift of 10 by two positions:' )\n",
        "print(np.left_shift(10,2) )\n",
        "\n",
        "\n",
        "print('Binary representation of 10:' )\n",
        "print(np.binary_repr(10, width = 8) )\n",
        " \n",
        "\n",
        "print('Binary representation of 40:' )\n",
        "np.binary_repr(40, width = 8)  "
      ]
    },
    {
      "cell_type": "code",
      "execution_count": 48,
      "metadata": {
        "colab": {
          "base_uri": "https://localhost:8080/",
          "height": 122
        },
        "id": "NGndPPdAj9hV",
        "outputId": "bb7169ec-fcf0-499b-c4b1-1ce5874d2d94"
      },
      "outputs": [
        {
          "output_type": "stream",
          "name": "stdout",
          "text": [
            "Left shift of 10 by two positions:\n",
            "10\n",
            "Binary representation of 10:\n",
            "00101000\n",
            "Binary representation of 40:\n"
          ]
        },
        {
          "output_type": "execute_result",
          "data": {
            "text/plain": [
              "'00001010'"
            ],
            "application/vnd.google.colaboratory.intrinsic+json": {
              "type": "string"
            }
          },
          "metadata": {},
          "execution_count": 48
        }
      ],
      "source": [
        "print('Left shift of 10 by two positions:' )\n",
        "print(np.right_shift(40,2) )\n",
        "\n",
        "\n",
        "print('Binary representation of 10:' )\n",
        "print(np.binary_repr(40, width = 8) )\n",
        " \n",
        "\n",
        "print('Binary representation of 40:' )\n",
        "np.binary_repr(10, width = 8)  "
      ]
    },
    {
      "cell_type": "code",
      "execution_count": 49,
      "metadata": {
        "colab": {
          "base_uri": "https://localhost:8080/"
        },
        "id": "YYMKXlWBdKA0",
        "outputId": "a9e9ba06-b26d-4912-9e91-f60ebf3f6f5c"
      },
      "outputs": [
        {
          "output_type": "stream",
          "name": "stdout",
          "text": [
            "Concatenate two strings:\n",
            "['hello xyz']\n",
            "Concatenation example:\n",
            "['hello abc' 'hi xyz']\n"
          ]
        }
      ],
      "source": [
        "print('Concatenate two strings:' )\n",
        "print(np.char.add(['hello'],[' xyz']) )\n",
        "\n",
        "print('Concatenation example:' )\n",
        "print(np.char.add(['hello', 'hi'],[' abc', ' xyz']))"
      ]
    },
    {
      "cell_type": "code",
      "execution_count": 50,
      "metadata": {
        "colab": {
          "base_uri": "https://localhost:8080/"
        },
        "id": "JYDIJxopdXFw",
        "outputId": "ed942cc0-14b5-43bd-aaf4-a95f5dc3373f"
      },
      "outputs": [
        {
          "output_type": "execute_result",
          "data": {
            "text/plain": [
              "array('Hello Hello Hello ', dtype='<U18')"
            ]
          },
          "metadata": {},
          "execution_count": 50
        }
      ],
      "source": [
        "np.char.multiply('Hello ',3)"
      ]
    },
    {
      "cell_type": "code",
      "execution_count": 51,
      "metadata": {
        "colab": {
          "base_uri": "https://localhost:8080/"
        },
        "id": "Ysa96NK0dbOD",
        "outputId": "e83ade99-8dff-47f5-d75d-24626f1b2e6f"
      },
      "outputs": [
        {
          "output_type": "execute_result",
          "data": {
            "text/plain": [
              "array('*******hello********', dtype='<U20')"
            ]
          },
          "metadata": {},
          "execution_count": 51
        }
      ],
      "source": [
        "np.char.center('hello', 20, fillchar = '*')"
      ]
    },
    {
      "cell_type": "code",
      "execution_count": 52,
      "metadata": {
        "colab": {
          "base_uri": "https://localhost:8080/"
        },
        "id": "rxwBPmq3dt6M",
        "outputId": "16eab485-2729-44ff-b1a8-872ec372de58"
      },
      "outputs": [
        {
          "output_type": "execute_result",
          "data": {
            "text/plain": [
              "array('Hello world', dtype='<U11')"
            ]
          },
          "metadata": {},
          "execution_count": 52
        }
      ],
      "source": [
        "np.char.capitalize('hello world')"
      ]
    },
    {
      "cell_type": "code",
      "execution_count": 53,
      "metadata": {
        "colab": {
          "base_uri": "https://localhost:8080/"
        },
        "id": "utdcVS3tdxC7",
        "outputId": "7eec6d13-cd4f-491a-96f9-3ffb2079c640"
      },
      "outputs": [
        {
          "output_type": "execute_result",
          "data": {
            "text/plain": [
              "array('Hello How Are You?', dtype='<U18')"
            ]
          },
          "metadata": {},
          "execution_count": 53
        }
      ],
      "source": [
        "np.char.title('hello how are you?')"
      ]
    },
    {
      "cell_type": "code",
      "execution_count": 54,
      "metadata": {
        "colab": {
          "base_uri": "https://localhost:8080/"
        },
        "id": "Ufj-qJDFd3cl",
        "outputId": "8d85fc26-c33f-43b4-9aae-02c340287148"
      },
      "outputs": [
        {
          "output_type": "execute_result",
          "data": {
            "text/plain": [
              "array(['hello', 'world'], dtype='<U5')"
            ]
          },
          "metadata": {},
          "execution_count": 54
        }
      ],
      "source": [
        "np.char.lower(['HELLO','WORLD']) "
      ]
    },
    {
      "cell_type": "code",
      "execution_count": 55,
      "metadata": {
        "colab": {
          "base_uri": "https://localhost:8080/"
        },
        "id": "qbB4GXnfd7Kb",
        "outputId": "574b0a76-16e3-45b1-81aa-cf59c1675251"
      },
      "outputs": [
        {
          "output_type": "execute_result",
          "data": {
            "text/plain": [
              "array('HELLO', dtype='<U5')"
            ]
          },
          "metadata": {},
          "execution_count": 55
        }
      ],
      "source": [
        "np.char.upper('hello') "
      ]
    },
    {
      "cell_type": "code",
      "execution_count": 56,
      "metadata": {
        "colab": {
          "base_uri": "https://localhost:8080/"
        },
        "id": "LeJtRvkxd_Hj",
        "outputId": "4a1947ed-b282-45f5-d420-4dd7dd6e1612"
      },
      "outputs": [
        {
          "output_type": "stream",
          "name": "stdout",
          "text": [
            "['hello', 'how', 'are', 'you?']\n",
            "['TutorialsPoint', ' Hyderabad', ' Telangana']\n"
          ]
        }
      ],
      "source": [
        "print(np.char.split ('hello how are you?') )\n",
        "print(np.char.split ('TutorialsPoint, Hyderabad, Telangana', sep = ','))"
      ]
    },
    {
      "cell_type": "code",
      "execution_count": 57,
      "metadata": {
        "colab": {
          "base_uri": "https://localhost:8080/"
        },
        "id": "iXA_BLMOeHpE",
        "outputId": "eeb817f5-3667-4104-a713-e04b1f0d82cf"
      },
      "outputs": [
        {
          "output_type": "stream",
          "name": "stdout",
          "text": [
            "['hello', 'how are you?']\n",
            "['hello', 'how are you?']\n"
          ]
        }
      ],
      "source": [
        "print(np.char.splitlines('hello\\nhow are you?') )\n",
        "print(np.char.splitlines('hello\\rhow are you?'))\n",
        "\n",
        "#This function returns a list of elements in the array, breaking at line boundaries."
      ]
    },
    {
      "cell_type": "code",
      "execution_count": 58,
      "metadata": {
        "colab": {
          "base_uri": "https://localhost:8080/"
        },
        "id": "gTOE1XVseOwj",
        "outputId": "b45171ca-58b4-49eb-cb23-7f8337eacdf8"
      },
      "outputs": [
        {
          "output_type": "stream",
          "name": "stdout",
          "text": [
            "shok aror\n",
            "['ror' 'dmin' 'jav']\n"
          ]
        }
      ],
      "source": [
        "print(np.char.strip('ashok arora','a') )\n",
        "print(np.char.strip(['arora','admin','java'],'a'))\n",
        "\n",
        "#This function returns a copy of array with elements stripped of the specified characters leading and/or trailing in it."
      ]
    },
    {
      "cell_type": "code",
      "execution_count": 59,
      "metadata": {
        "colab": {
          "base_uri": "https://localhost:8080/"
        },
        "id": "UbsBIKmGegwb",
        "outputId": "693b8c0f-2ebf-481a-9fa8-bd85bff12c98"
      },
      "outputs": [
        {
          "output_type": "stream",
          "name": "stdout",
          "text": [
            "d:m:y\n",
            "['d:m:y' 'y-m-d']\n"
          ]
        }
      ],
      "source": [
        "print(np.char.join(':','dmy') )\n",
        "print(np.char.join([':','-'],['dmy','ymd']))"
      ]
    },
    {
      "cell_type": "code",
      "execution_count": 60,
      "metadata": {
        "colab": {
          "base_uri": "https://localhost:8080/"
        },
        "id": "Kfuf-Oi0g3u0",
        "outputId": "d503dd66-120a-4acf-b734-671722f67f8b"
      },
      "outputs": [
        {
          "output_type": "execute_result",
          "data": {
            "text/plain": [
              "array('He was a good boy', dtype='<U17')"
            ]
          },
          "metadata": {},
          "execution_count": 60
        }
      ],
      "source": [
        "np.char.replace ('He is a good boy', 'is', 'was')"
      ]
    },
    {
      "cell_type": "markdown",
      "metadata": {
        "id": "917ELJRaueTI"
      },
      "source": [
        "Resources:\n",
        "\n",
        "https://www.geeksforgeeks.org/numpy-tutorial/\n",
        "\n",
        "https://realpython.com/numpy-tutorial/"
      ]
    },
    {
      "cell_type": "code",
      "execution_count": 61,
      "metadata": {
        "id": "EtiijUKqvqlv",
        "colab": {
          "base_uri": "https://localhost:8080/"
        },
        "outputId": "e31f7a67-8f7a-4b46-a7b9-0bfd14974061"
      },
      "outputs": [
        {
          "output_type": "stream",
          "name": "stdout",
          "text": [
            "[0.49060917 1.50736078 0.84386624 1.61598902 0.1809786  3.92164373\n",
            " 5.6686946  1.33992984 0.46014599 5.4250794  7.1908532  1.27989408]\n",
            "[[0.49060917 1.50736078 0.84386624]\n",
            " [1.61598902 0.1809786  3.92164373]\n",
            " [5.6686946  1.33992984 0.46014599]\n",
            " [5.4250794  7.1908532  1.27989408]]\n"
          ]
        }
      ],
      "source": [
        "import numpy as np\n",
        "\n",
        "arr = []\n",
        "temp = []\n",
        "\n",
        "for i in range(12):\n",
        "    temp.append(np.random.rand()*10)\n",
        "    if((len(temp)) % 3 == 0):\n",
        "        arr.append(temp)\n",
        "        temp = []\n",
        "\n",
        "arr =  np.array(arr)\n",
        "print(arr.flatten())\n",
        "print(arr)"
      ]
    },
    {
      "cell_type": "code",
      "source": [
        "import numpy as np\n",
        "\n",
        "arr = []\n",
        "temp = []\n",
        "\n",
        "for i in range(12):\n",
        "    temp.append(np.random.rand()*10)\n",
        "    if((len(temp)) % 3 == 0):\n",
        "        arr.append(temp)\n",
        "        temp = []\n",
        "\n",
        "arr =  np.array(arr)\n",
        "print(arr.flatten())\n",
        "print(arr)"
      ],
      "metadata": {
        "colab": {
          "base_uri": "https://localhost:8080/"
        },
        "id": "5RT6lifuxbnL",
        "outputId": "94516830-a20e-4fa1-e428-1d9678a1a46d"
      },
      "execution_count": 62,
      "outputs": [
        {
          "output_type": "stream",
          "name": "stdout",
          "text": [
            "[0.69308872 2.73930696 5.76454236 8.46103504 8.38566795 0.26245862\n",
            " 0.36197415 6.55462998 7.89095589 1.45732795 0.98258829 5.66310591]\n",
            "[[0.69308872 2.73930696 5.76454236]\n",
            " [8.46103504 8.38566795 0.26245862]\n",
            " [0.36197415 6.55462998 7.89095589]\n",
            " [1.45732795 0.98258829 5.66310591]]\n"
          ]
        }
      ]
    },
    {
      "cell_type": "code",
      "execution_count": 63,
      "metadata": {
        "id": "WtsF5XmuAZaN",
        "colab": {
          "base_uri": "https://localhost:8080/"
        },
        "outputId": "7b8308d9-6c02-4163-d35c-7d777e5c13b9"
      },
      "outputs": [
        {
          "output_type": "stream",
          "name": "stdout",
          "text": [
            "[[ 6  5  4  3  2]\n",
            " [11 10  9  8  7]\n",
            " [21 15 19 18 17]\n",
            " [16 20 14 13 12]]\n"
          ]
        }
      ],
      "source": [
        "import numpy as np\n",
        "\n",
        "a = np.array( [[21,15, 19, 18, 17],[16, 20, 14, 13, 12], [11, 10 , 9 , 8 , 7], [6 , 5,  4,  3,  2]])\n",
        "b = a[:,1]\n",
        "b = sorted(b)\n",
        "c = a.copy()\n",
        "k = 0\n",
        "for i in b:\n",
        "    index = np.where(a[:,1] == i)\n",
        "    c[k] = a[index]\n",
        "    k+=1\n",
        "\n",
        "print(c)"
      ]
    },
    {
      "cell_type": "code",
      "source": [],
      "metadata": {
        "id": "mVoE-sOJxpcs"
      },
      "execution_count": null,
      "outputs": []
    }
  ],
  "metadata": {
    "colab": {
      "provenance": [],
      "include_colab_link": true
    },
    "kernelspec": {
      "display_name": "Python 3 (ipykernel)",
      "language": "python",
      "name": "python3"
    },
    "language_info": {
      "codemirror_mode": {
        "name": "ipython",
        "version": 3
      },
      "file_extension": ".py",
      "mimetype": "text/x-python",
      "name": "python",
      "nbconvert_exporter": "python",
      "pygments_lexer": "ipython3",
      "version": "3.9.7"
    }
  },
  "nbformat": 4,
  "nbformat_minor": 0
}