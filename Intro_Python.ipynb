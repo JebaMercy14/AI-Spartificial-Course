{
  "cells": [
    {
      "cell_type": "markdown",
      "metadata": {
        "id": "view-in-github",
        "colab_type": "text"
      },
      "source": [
        "<a href=\"https://colab.research.google.com/github/JebaMercy14/AI-Spartificial-Course/blob/main/Intro_Python.ipynb\" target=\"_parent\"><img src=\"https://colab.research.google.com/assets/colab-badge.svg\" alt=\"Open In Colab\"/></a>"
      ]
    },
    {
      "cell_type": "markdown",
      "metadata": {
        "id": "UnDA08zRmI3U"
      },
      "source": [
        "### Different ways of writing Python Code\n",
        "\n",
        "1. Open a Google Colab or Kaggle Notebook, start typing your code, and run the cells.\n",
        "\n",
        "2. Install Python, a text editor, and run the code in CMD/Power-shell.\n",
        "\n",
        "3. Install an environment - like Anaconda, or Microsoft Visual Studio Code, code and run within it. \n",
        "\n",
        "4. Install Jupyter Notebooks only, write code and run the cells."
      ]
    },
    {
      "cell_type": "code",
      "execution_count": 2,
      "metadata": {
        "colab": {
          "base_uri": "https://localhost:8080/"
        },
        "id": "46nijgQXl-qF",
        "outputId": "b6f5a056-ba54-4203-d558-ffd358271beb"
      },
      "outputs": [
        {
          "output_type": "stream",
          "name": "stdout",
          "text": [
            "KOTHAI\n"
          ]
        }
      ],
      "source": [
        "# First Code Snippet to run!\n",
        "\n",
        "print('KOTHAI')"
      ]
    },
    {
      "cell_type": "code",
      "execution_count": 6,
      "metadata": {
        "colab": {
          "base_uri": "https://localhost:8080/",
          "height": 130
        },
        "id": "Bu6sPKhJnWn8",
        "outputId": "efe4c227-59bf-422e-fc80-56383d1b6b2f"
      },
      "outputs": [
        {
          "output_type": "error",
          "ename": "SyntaxError",
          "evalue": "ignored",
          "traceback": [
            "\u001b[0;36m  File \u001b[0;32m\"<ipython-input-6-c500fd94f337>\"\u001b[0;36m, line \u001b[0;32m18\u001b[0m\n\u001b[0;31m    1_final = 'final_document.pdf' # apparently no.\u001b[0m\n\u001b[0m     ^\u001b[0m\n\u001b[0;31mSyntaxError\u001b[0m\u001b[0;31m:\u001b[0m invalid decimal literal\n"
          ]
        }
      ],
      "source": [
        "# Commenting Code and Variables\n",
        "\n",
        "# Create a set of variables for storing my info.\n",
        "\n",
        "my_name = 'KOTHAI'\n",
        "my_dob = '14-05-2001'\n",
        "my_height = 'five feets'\n",
        "\n",
        "# Create a set of variables for storing planet info.\n",
        "# Get your planet info here: https://solarsystem.nasa.gov/planets/overview/\n",
        "\n",
        "planet_name = 'Mars'\n",
        "planet_age = '4.603 billion years old'\n",
        "planet_index = 3 # 0, 1, 2, 3\n",
        "\n",
        "# Can variable names start with a number? \n",
        "\n",
        "1_final = 'final_document.pdf' # apparently no."
      ]
    },
    {
      "cell_type": "markdown",
      "metadata": {
        "id": "ALFgERzpo_na"
      },
      "source": [
        "### White Spaces and Indentation\n",
        "\n",
        "Python does not use `;` to separate lines of code. \n",
        "\n",
        "So propoer indentation is only ensured by providing white spaces.\n",
        "\n",
        "\n",
        "\n"
      ]
    },
    {
      "cell_type": "code",
      "execution_count": 13,
      "metadata": {
        "id": "ObzGXr3opIW0"
      },
      "outputs": [],
      "source": [
        "my_new_var = 3\n",
        "my_new_var = 4; # error: unexpected indentation"
      ]
    },
    {
      "cell_type": "markdown",
      "metadata": {
        "id": "OU3mpYGTp6yz"
      },
      "source": [
        "### Basic Data Types: Strings, Constants, Boolean, Numbers"
      ]
    },
    {
      "cell_type": "code",
      "execution_count": 8,
      "metadata": {
        "colab": {
          "base_uri": "https://localhost:8080/"
        },
        "id": "ga63N8R5qDDa",
        "outputId": "01873f63-bb5b-4b3f-f927-8c5dbeab9e35"
      },
      "outputs": [
        {
          "output_type": "stream",
          "name": "stdout",
          "text": [
            "KOTHAI\n",
            "14-05-2001\n",
            "five feets\n"
          ]
        }
      ],
      "source": [
        "# print strings\n",
        "\n",
        "my_name\n",
        "\n",
        "print(my_name)\n",
        "print(my_dob)\n",
        "print(my_height)"
      ]
    },
    {
      "cell_type": "code",
      "execution_count": 10,
      "metadata": {
        "colab": {
          "base_uri": "https://localhost:8080/"
        },
        "id": "_IrahRJpt4QL",
        "outputId": "7b50552b-d39f-4cb3-ee7d-311474a341c1"
      },
      "outputs": [
        {
          "output_type": "stream",
          "name": "stdout",
          "text": [
            "There are 8 number of planets in our solar system.\n",
            "There are 8 number of planets in our solar system.\n",
            "There are 5044 number of planets in all solar systems.\n"
          ]
        }
      ],
      "source": [
        "# Format Strings\n",
        "\n",
        "print('There are 8 number of planets in our solar system.')\n",
        "\n",
        "# print the same thing by using format strings for variables with different values\n",
        "number_of_planets = 8\n",
        "x = f'There are {number_of_planets} number of planets in our solar system.'\n",
        "print(x)\n",
        "\n",
        "# Planets beyond our Solar System: https://exoplanets.nasa.gov/\n",
        "number_of_planets = 5044\n",
        "x = f'There are {number_of_planets} number of planets in all solar systems.'\n",
        "print(x)"
      ]
    },
    {
      "cell_type": "code",
      "execution_count": 11,
      "metadata": {
        "id": "lsH0UowLuXhF",
        "colab": {
          "base_uri": "https://localhost:8080/"
        },
        "outputId": "0aced1ce-a335-4b80-d4da-ccfcc12d9790"
      },
      "outputs": [
        {
          "output_type": "stream",
          "name": "stdout",
          "text": [
            "This is the name of the biggest planet? Jupiter\n"
          ]
        }
      ],
      "source": [
        "# Another way of using format strings\n",
        "\n",
        "my_planet = 'Jupiter'\n",
        "biggest_planet = 'This is the name of the biggest planet? {}'\n",
        "\n",
        "print(biggest_planet.format(my_planet))"
      ]
    },
    {
      "cell_type": "code",
      "execution_count": 12,
      "metadata": {
        "colab": {
          "base_uri": "https://localhost:8080/"
        },
        "id": "U8wKpWiRweRr",
        "outputId": "169b5882-5e38-4e5b-bc3c-a4bb3fb47915"
      },
      "outputs": [
        {
          "output_type": "stream",
          "name": "stdout",
          "text": [
            "Earth is the only planet with lifemay be not! :)\n"
          ]
        }
      ],
      "source": [
        "# String Concatenation\n",
        "\n",
        "w = 'Earth is the only planet with life'\n",
        "e = 'may be not! :)'\n",
        "\n",
        "print(w + e)"
      ]
    },
    {
      "cell_type": "code",
      "execution_count": 14,
      "metadata": {
        "id": "PayYZqBrxMlD"
      },
      "outputs": [],
      "source": [
        "# Constants: Python doesn’t support them!\n",
        "# use all CAPS in the variable name to remember it's a constant!\n",
        "\n",
        "FILE_SIZE_LIMIT = 2000 "
      ]
    },
    {
      "cell_type": "markdown",
      "metadata": {
        "id": "TM5DdczjxuLz"
      },
      "source": [
        "To represent true and false, Python provides you with the boolean data type. \n",
        "\n",
        "The boolean value has a technical name as bool.\n",
        "\n",
        "The boolean data type has two values: True and False."
      ]
    },
    {
      "cell_type": "code",
      "execution_count": 15,
      "metadata": {
        "colab": {
          "base_uri": "https://localhost:8080/"
        },
        "id": "1_aJ56nPxpv3",
        "outputId": "b90d9dec-03f6-4446-d3b9-1cc132f361d1"
      },
      "outputs": [
        {
          "output_type": "stream",
          "name": "stdout",
          "text": [
            "True\n",
            "True\n"
          ]
        }
      ],
      "source": [
        "print(20 > 10)\n",
        "print('z' > 'g')"
      ]
    },
    {
      "cell_type": "code",
      "execution_count": 16,
      "metadata": {
        "colab": {
          "base_uri": "https://localhost:8080/"
        },
        "id": "QfhVbIdLx849",
        "outputId": "66c3ce59-aa62-4ba3-8dda-1b18daf0a9d8"
      },
      "outputs": [
        {
          "output_type": "stream",
          "name": "stdout",
          "text": [
            "True\n"
          ]
        }
      ],
      "source": [
        "is_active = True # False\n",
        "print(is_active)"
      ]
    },
    {
      "cell_type": "code",
      "execution_count": 17,
      "metadata": {
        "colab": {
          "base_uri": "https://localhost:8080/"
        },
        "id": "9qFJs9DCyEiC",
        "outputId": "e703814d-d34e-4581-eaf5-173c65025c58"
      },
      "outputs": [
        {
          "output_type": "stream",
          "name": "stdout",
          "text": [
            "True\n",
            "False\n",
            "True\n",
            "True\n",
            "False\n"
          ]
        }
      ],
      "source": [
        "print(bool(20))\n",
        "print(bool(0))\n",
        "print(bool(1))\n",
        "print(bool('info'))\n",
        "print(bool(''))"
      ]
    },
    {
      "cell_type": "code",
      "execution_count": 18,
      "metadata": {
        "colab": {
          "base_uri": "https://localhost:8080/"
        },
        "id": "ewMy5uVsykL9",
        "outputId": "49cdb754-c1a8-417f-a57b-c3f1ee967df4"
      },
      "outputs": [
        {
          "output_type": "stream",
          "name": "stdout",
          "text": [
            "False\n",
            "False\n",
            "False\n"
          ]
        }
      ],
      "source": [
        "# Bool On Advanced Data Structures in Python\n",
        "print(bool({}))\n",
        "print(bool([]))\n",
        "print(bool(()))"
      ]
    },
    {
      "cell_type": "markdown",
      "metadata": {
        "id": "2laMNLlDzCU0"
      },
      "source": [
        "Numbers - Integers and Floats"
      ]
    },
    {
      "cell_type": "code",
      "execution_count": 19,
      "metadata": {
        "colab": {
          "base_uri": "https://localhost:8080/"
        },
        "id": "QtTSpjrSzFiE",
        "outputId": "ff6d2d95-7035-4f0b-bb61-bf548aeed25b"
      },
      "outputs": [
        {
          "output_type": "stream",
          "name": "stdout",
          "text": [
            "30\n",
            "2.0\n",
            "2\n",
            "6.666666666666667\n",
            "3.5\n",
            "-1.5\n",
            "0.0\n",
            "0\n"
          ]
        }
      ],
      "source": [
        "print(20+10)\n",
        "print(20/10)\n",
        "print(20//10)\n",
        "\n",
        "print(20/3)\n",
        "print(1+2.5)\n",
        "print(1-2.5)\n",
        "print(2.5-2.5)\n",
        "print(2-2)"
      ]
    },
    {
      "cell_type": "markdown",
      "metadata": {
        "id": "YWbqA_RGzvu0"
      },
      "source": [
        "#### Type Conversion"
      ]
    },
    {
      "cell_type": "code",
      "execution_count": 20,
      "metadata": {
        "id": "Rjml3xI_zy5t",
        "colab": {
          "base_uri": "https://localhost:8080/"
        },
        "outputId": "709884ff-f360-4e6a-8947-cee644d63c44"
      },
      "outputs": [
        {
          "output_type": "execute_result",
          "data": {
            "text/plain": [
              "-1.5"
            ]
          },
          "metadata": {},
          "execution_count": 20
        }
      ],
      "source": [
        "# floating to integer\n",
        "\n",
        "c = 1-2.5\n",
        "c"
      ]
    },
    {
      "cell_type": "code",
      "execution_count": 21,
      "metadata": {
        "id": "oqwvlsCnz9cz",
        "colab": {
          "base_uri": "https://localhost:8080/"
        },
        "outputId": "59187b55-6bff-4ca6-a6a4-af0c4b8e68e8"
      },
      "outputs": [
        {
          "output_type": "execute_result",
          "data": {
            "text/plain": [
              "-1"
            ]
          },
          "metadata": {},
          "execution_count": 21
        }
      ],
      "source": [
        "int(c)"
      ]
    },
    {
      "cell_type": "code",
      "execution_count": 22,
      "metadata": {
        "colab": {
          "base_uri": "https://localhost:8080/"
        },
        "id": "Wsw7JVse0EpD",
        "outputId": "b8447f2e-a411-4105-ea01-38b2b8b902aa"
      },
      "outputs": [
        {
          "output_type": "stream",
          "name": "stdout",
          "text": [
            "3025\n",
            "55\n",
            "55.0\n"
          ]
        }
      ],
      "source": [
        "# string to integers and floats\n",
        "\n",
        "a = '30'\n",
        "b = '25'\n",
        "\n",
        "print(a + b)\n",
        "print(int(a) + int(b))\n",
        "print(float(a) + float(b))"
      ]
    },
    {
      "cell_type": "code",
      "execution_count": 23,
      "metadata": {
        "colab": {
          "base_uri": "https://localhost:8080/"
        },
        "id": "3loSfC__0l-j",
        "outputId": "75e58a78-b2a5-4af1-f4ba-c4ece3ea3dc5"
      },
      "outputs": [
        {
          "output_type": "stream",
          "name": "stdout",
          "text": [
            "True\n",
            "True\n"
          ]
        }
      ],
      "source": [
        "# number or string to bool\n",
        "\n",
        "a = '-456023334512864'\n",
        "print(bool(a))\n",
        "\n",
        "b = -456023334512864\n",
        "print(bool(b))"
      ]
    },
    {
      "cell_type": "code",
      "execution_count": 24,
      "metadata": {
        "colab": {
          "base_uri": "https://localhost:8080/",
          "height": 217
        },
        "id": "1esfpCa809xL",
        "outputId": "bccdc832-1fbd-4a91-ca84-904e4dc220cd"
      },
      "outputs": [
        {
          "output_type": "stream",
          "name": "stdout",
          "text": [
            "207957281620231458600181482496\n"
          ]
        },
        {
          "output_type": "error",
          "ename": "TypeError",
          "evalue": "ignored",
          "traceback": [
            "\u001b[0;31m---------------------------------------------------------------------------\u001b[0m",
            "\u001b[0;31mTypeError\u001b[0m                                 Traceback (most recent call last)",
            "\u001b[0;32m<ipython-input-24-4254d790c44e>\u001b[0m in \u001b[0;36m<module>\u001b[0;34m\u001b[0m\n\u001b[1;32m      3\u001b[0m \u001b[0;34m\u001b[0m\u001b[0m\n\u001b[1;32m      4\u001b[0m \u001b[0ms_e\u001b[0m \u001b[0;34m=\u001b[0m \u001b[0mstr\u001b[0m\u001b[0;34m(\u001b[0m\u001b[0me\u001b[0m\u001b[0;34m)\u001b[0m\u001b[0;34m\u001b[0m\u001b[0;34m\u001b[0m\u001b[0m\n\u001b[0;32m----> 5\u001b[0;31m \u001b[0ms_e\u001b[0m\u001b[0;34m**\u001b[0m\u001b[0;36m2\u001b[0m \u001b[0;31m# cant apply exponent operator after converting to string!\u001b[0m\u001b[0;34m\u001b[0m\u001b[0;34m\u001b[0m\u001b[0m\n\u001b[0m",
            "\u001b[0;31mTypeError\u001b[0m: unsupported operand type(s) for ** or pow(): 'str' and 'int'"
          ]
        }
      ],
      "source": [
        "e = b**2\n",
        "print(e)\n",
        "\n",
        "s_e = str(e)\n",
        "s_e**2 # cant apply exponent operator after converting to string!"
      ]
    },
    {
      "cell_type": "code",
      "execution_count": 25,
      "metadata": {
        "id": "jrvjKVI51T-T",
        "colab": {
          "base_uri": "https://localhost:8080/"
        },
        "outputId": "5af343fa-6fdd-48d9-857b-34f5eb73b44a"
      },
      "outputs": [
        {
          "output_type": "execute_result",
          "data": {
            "text/plain": [
              "int"
            ]
          },
          "metadata": {},
          "execution_count": 25
        }
      ],
      "source": [
        "# Getting the type of a value\n",
        "\n",
        "type(100)"
      ]
    },
    {
      "cell_type": "code",
      "execution_count": 26,
      "metadata": {
        "id": "pP__wgGS1cnk",
        "colab": {
          "base_uri": "https://localhost:8080/"
        },
        "outputId": "8f6cbdc7-98b9-4cc6-9bcc-6ae05e58fb33"
      },
      "outputs": [
        {
          "output_type": "execute_result",
          "data": {
            "text/plain": [
              "float"
            ]
          },
          "metadata": {},
          "execution_count": 26
        }
      ],
      "source": [
        "type(10.4)"
      ]
    },
    {
      "cell_type": "code",
      "execution_count": 27,
      "metadata": {
        "colab": {
          "base_uri": "https://localhost:8080/"
        },
        "id": "Gduopvte1emz",
        "outputId": "b490bc21-a60f-420b-bd18-4ed992763935"
      },
      "outputs": [
        {
          "output_type": "stream",
          "name": "stdout",
          "text": [
            "<class 'str'>\n",
            "<class 'bool'>\n"
          ]
        }
      ],
      "source": [
        "print(type('hi there!'))\n",
        "print(type(True))"
      ]
    },
    {
      "cell_type": "code",
      "execution_count": 28,
      "metadata": {
        "colab": {
          "base_uri": "https://localhost:8080/"
        },
        "id": "ebHq4GaO1llm",
        "outputId": "16860be4-df6c-49b4-dffe-9964f4c6fa02"
      },
      "outputs": [
        {
          "output_type": "execute_result",
          "data": {
            "text/plain": [
              "bool"
            ]
          },
          "metadata": {},
          "execution_count": 28
        }
      ],
      "source": [
        "z = False\n",
        "type(z)"
      ]
    },
    {
      "cell_type": "markdown",
      "metadata": {
        "id": "00Np8e9J2K40"
      },
      "source": [
        "#### Getting Input from a User\n",
        "\n"
      ]
    },
    {
      "cell_type": "code",
      "execution_count": 29,
      "metadata": {
        "id": "9LAdGqx-2QRa",
        "colab": {
          "base_uri": "https://localhost:8080/"
        },
        "outputId": "1b24298e-533f-4faf-e659-b6f790c248e9"
      },
      "outputs": [
        {
          "output_type": "stream",
          "name": "stdout",
          "text": [
            "Enter a value:14\n",
            "14\n"
          ]
        }
      ],
      "source": [
        "value = input('Enter a value:')\n",
        "print(value)"
      ]
    },
    {
      "cell_type": "code",
      "execution_count": 30,
      "metadata": {
        "colab": {
          "base_uri": "https://localhost:8080/"
        },
        "id": "q5SxM2gG2n3b",
        "outputId": "94362edb-30e9-4b23-ae4a-ed9bc8d2e778"
      },
      "outputs": [
        {
          "name": "stdout",
          "output_type": "stream",
          "text": [
            "How old are you? 21\n"
          ]
        }
      ],
      "source": [
        "print(\"How old are you?\", end = ' ') # end is used to specify how to end the printed content\n",
        "age = input()"
      ]
    },
    {
      "cell_type": "code",
      "execution_count": 31,
      "metadata": {
        "colab": {
          "base_uri": "https://localhost:8080/"
        },
        "id": "Oh9qKbMA2yKe",
        "outputId": "586c8c03-8f77-47ba-a536-16f020be2af5"
      },
      "outputs": [
        {
          "output_type": "stream",
          "name": "stdout",
          "text": [
            "So you are 21 years old\n"
          ]
        }
      ],
      "source": [
        "print(f'So you are {age} years old')"
      ]
    },
    {
      "cell_type": "code",
      "execution_count": 33,
      "metadata": {
        "colab": {
          "base_uri": "https://localhost:8080/"
        },
        "id": "FNxmEgXg29vC",
        "outputId": "8238b647-2fb7-4ae5-b9a0-b582d7dd4927"
      },
      "outputs": [
        {
          "name": "stdout",
          "output_type": "stream",
          "text": [
            "Name? KOTHAI\n",
            "Age? 21\n",
            "Height? 5ft\n"
          ]
        }
      ],
      "source": [
        "y = input(\"Name? \")\n",
        "age = input(\"Age? \")\n",
        "height = input(\"Height? \")"
      ]
    },
    {
      "cell_type": "markdown",
      "metadata": {
        "id": "LzJvI24J3gpz"
      },
      "source": [
        "#### Operators in Python\n",
        "\n",
        "1. Arithmetic operators: `+, -, *, /, %, **, //`\n",
        "\n",
        "2. Assignment operators: `=, +=, -=, *=, /=, %=, **=, //=, &=, |=, ^=, >>=, <<=`\n",
        "\n",
        "3. Comparison operators: `==, !=, >, <, >=, <=`\n",
        "\n",
        "4. Logical operators: `and, or, not`\n",
        "\n",
        "5. Identity operators: `is, is not`\n",
        "\n",
        "6. Membership operators: `in, not in`\n",
        "\n",
        "7. Bitwise operators: `&, |, ^, ~, <<, >>`"
      ]
    },
    {
      "cell_type": "code",
      "execution_count": 34,
      "metadata": {
        "colab": {
          "base_uri": "https://localhost:8080/"
        },
        "id": "gRMGJoMolYTD",
        "outputId": "f296f563-5e73-4ff6-f502-18a51bf0c05b"
      },
      "outputs": [
        {
          "output_type": "stream",
          "name": "stdout",
          "text": [
            "3.3333333333333335\n",
            "3\n",
            "1\n",
            "1000\n"
          ]
        }
      ],
      "source": [
        "# Arithmetic Operators\n",
        "\n",
        "x = 10 / 3\n",
        "print(x)\n",
        "\n",
        "x = 10 // 3\n",
        "print(x)\n",
        "\n",
        "x = 10 % 3\n",
        "print(x)\n",
        "\n",
        "x = 10 ** 3\n",
        "print(x)"
      ]
    },
    {
      "cell_type": "code",
      "execution_count": 35,
      "metadata": {
        "colab": {
          "base_uri": "https://localhost:8080/"
        },
        "id": "4EqdshcShoOC",
        "outputId": "f7bf111b-cadd-4fa1-addd-6cd9b263d65a"
      },
      "outputs": [
        {
          "output_type": "execute_result",
          "data": {
            "text/plain": [
              "1"
            ]
          },
          "metadata": {},
          "execution_count": 35
        }
      ],
      "source": [
        "# Assignment Operators\n",
        "\n",
        "x = 5\n",
        "\n",
        "x &= 3\n",
        "x"
      ]
    },
    {
      "cell_type": "code",
      "execution_count": 36,
      "metadata": {
        "colab": {
          "base_uri": "https://localhost:8080/"
        },
        "id": "qAPB64TDhoMB",
        "outputId": "fd7b5944-d7ca-4a87-9303-cc817f55d930"
      },
      "outputs": [
        {
          "output_type": "execute_result",
          "data": {
            "text/plain": [
              "7"
            ]
          },
          "metadata": {},
          "execution_count": 36
        }
      ],
      "source": [
        "x = 5\n",
        "\n",
        "x |= 3\n",
        "x"
      ]
    },
    {
      "cell_type": "code",
      "execution_count": 37,
      "metadata": {
        "colab": {
          "base_uri": "https://localhost:8080/"
        },
        "id": "DOk4z2MVhoKC",
        "outputId": "d70fb1d9-850f-4494-9239-6af0e8ec02cf"
      },
      "outputs": [
        {
          "output_type": "execute_result",
          "data": {
            "text/plain": [
              "6"
            ]
          },
          "metadata": {},
          "execution_count": 37
        }
      ],
      "source": [
        "x = 5\n",
        "\n",
        "x ^= 3\n",
        "x"
      ]
    },
    {
      "cell_type": "code",
      "execution_count": 38,
      "metadata": {
        "colab": {
          "base_uri": "https://localhost:8080/"
        },
        "id": "FXvXKVEuhoGq",
        "outputId": "616c3e8f-7e3b-46f2-d735-fac89311c93f"
      },
      "outputs": [
        {
          "output_type": "stream",
          "name": "stdout",
          "text": [
            "2\n",
            "1\n",
            "0\n"
          ]
        }
      ],
      "source": [
        "x = 5\n",
        "x >>= 1\n",
        "print(x)\n",
        "\n",
        "x = 5\n",
        "x >>= 2\n",
        "print(x)\n",
        "\n",
        "x = 5\n",
        "x >>= 3\n",
        "print(x)"
      ]
    },
    {
      "cell_type": "code",
      "execution_count": 39,
      "metadata": {
        "colab": {
          "base_uri": "https://localhost:8080/"
        },
        "id": "4mlCJ1ixlr0b",
        "outputId": "01c3e5db-a12b-47f9-b192-c032291ead0a"
      },
      "outputs": [
        {
          "output_type": "stream",
          "name": "stdout",
          "text": [
            "False\n",
            "True\n",
            "True\n"
          ]
        }
      ],
      "source": [
        "# Comparison Operators\n",
        "\n",
        "print(3 != 3)\n",
        "\n",
        "print(3 != 7)\n",
        "\n",
        "print('a' != 'b')"
      ]
    },
    {
      "cell_type": "code",
      "execution_count": 40,
      "metadata": {
        "colab": {
          "base_uri": "https://localhost:8080/"
        },
        "id": "KmWrV_cq3gLT",
        "outputId": "faecfbe7-c415-49e7-c19f-43f3cab39992"
      },
      "outputs": [
        {
          "output_type": "stream",
          "name": "stdout",
          "text": [
            "True\n"
          ]
        }
      ],
      "source": [
        "# Logical Operators\n",
        "\n",
        "x = 5\n",
        "\n",
        "print(x > 3 and x < 10)\n",
        "\n",
        "# returns True because 5 is greater than 3 AND 5 is less than 10\n"
      ]
    },
    {
      "cell_type": "code",
      "execution_count": 41,
      "metadata": {
        "colab": {
          "base_uri": "https://localhost:8080/"
        },
        "id": "cNGsfz3njtBi",
        "outputId": "30f49eec-5dc8-450b-9e4d-c1c83c942198"
      },
      "outputs": [
        {
          "output_type": "stream",
          "name": "stdout",
          "text": [
            "True\n",
            "False\n",
            "True\n"
          ]
        }
      ],
      "source": [
        "x = 5\n",
        "\n",
        "print(x > 6 or x < 10)\n",
        "print(x > 6 or x < 1)\n",
        "\n",
        "print(not(x > 6))"
      ]
    },
    {
      "cell_type": "code",
      "execution_count": 42,
      "metadata": {
        "colab": {
          "base_uri": "https://localhost:8080/"
        },
        "id": "8qyStb1BkGCT",
        "outputId": "5321d1c1-6570-4c61-a0cc-7a50a1f2988f"
      },
      "outputs": [
        {
          "output_type": "stream",
          "name": "stdout",
          "text": [
            "True\n",
            "False\n",
            "True\n"
          ]
        }
      ],
      "source": [
        "# Identity Operators\n",
        "\n",
        "x = [\"Artificial\", \"Intelligence\"]\n",
        "y = [\"Artificial\", \"Intelligence\"]\n",
        "z = x\n",
        "\n",
        "print(x is z)\n",
        "\n",
        "# returns True because z is the same object as x\n",
        "\n",
        "print(x is y)\n",
        "\n",
        "# returns False because x is not the same object as y, even if they have the same content\n",
        "\n",
        "print(x == y)\n",
        "\n",
        "# to demonstrate the difference betweeen \"is\" and \"==\": this comparison returns True because x is equal to y\n"
      ]
    },
    {
      "cell_type": "code",
      "execution_count": 43,
      "metadata": {
        "colab": {
          "base_uri": "https://localhost:8080/"
        },
        "id": "Kt6fklFTklUj",
        "outputId": "cb52198a-9120-41a0-c2ab-557ffa9d823a"
      },
      "outputs": [
        {
          "output_type": "stream",
          "name": "stdout",
          "text": [
            "False\n",
            "True\n",
            "True\n"
          ]
        }
      ],
      "source": [
        "# Membership Operators\n",
        "\n",
        "x = [\"pear\", \"plum\"]\n",
        "\n",
        "print(\"pineapple\" in x)\n",
        "\n",
        "print(\"plum\" in x)\n",
        "\n",
        "print(\"pineapple\" not in x)"
      ]
    },
    {
      "cell_type": "code",
      "execution_count": 44,
      "metadata": {
        "colab": {
          "base_uri": "https://localhost:8080/"
        },
        "id": "vQH72XYgmBXL",
        "outputId": "ae009009-b147-4e1a-c79c-7affcbc9ec14"
      },
      "outputs": [
        {
          "output_type": "stream",
          "name": "stdout",
          "text": [
            "0\n",
            "14\n",
            "-11\n",
            "14\n",
            "160\n",
            "0\n"
          ]
        }
      ],
      "source": [
        "# Bitwise Operators - for binary operations\n",
        "\n",
        "a = 10\n",
        "\n",
        "b = 4\n",
        "\n",
        "print(a & b)\n",
        "print(a | b)\n",
        "print(~ a)\n",
        "\n",
        "print(a ^ b)\n",
        "print(a << b)\n",
        "print(a >> b)\n",
        "\n"
      ]
    },
    {
      "cell_type": "code",
      "execution_count": 44,
      "metadata": {
        "id": "UYDdjWs2mUKb"
      },
      "outputs": [],
      "source": []
    }
  ],
  "metadata": {
    "colab": {
      "provenance": [],
      "include_colab_link": true
    },
    "kernelspec": {
      "display_name": "Python 3 (ipykernel)",
      "language": "python",
      "name": "python3"
    },
    "language_info": {
      "codemirror_mode": {
        "name": "ipython",
        "version": 3
      },
      "file_extension": ".py",
      "mimetype": "text/x-python",
      "name": "python",
      "nbconvert_exporter": "python",
      "pygments_lexer": "ipython3",
      "version": "3.9.7"
    }
  },
  "nbformat": 4,
  "nbformat_minor": 0
}