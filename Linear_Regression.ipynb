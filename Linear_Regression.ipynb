{
  "cells": [
    {
      "cell_type": "markdown",
      "metadata": {
        "id": "view-in-github",
        "colab_type": "text"
      },
      "source": [
        "<a href=\"https://colab.research.google.com/github/JebaMercy14/AI-Spartificial-Course/blob/main/Linear_Regression.ipynb\" target=\"_parent\"><img src=\"https://colab.research.google.com/assets/colab-badge.svg\" alt=\"Open In Colab\"/></a>"
      ]
    },
    {
      "cell_type": "markdown",
      "source": [
        "# Star Size Classification - Big or Small"
      ],
      "metadata": {
        "id": "OOpluKxfBFjh"
      },
      "id": "OOpluKxfBFjh"
    },
    {
      "cell_type": "markdown",
      "source": [
        "# Linear regression:\n",
        "\n",
        "\n",
        "Supervised Learning:\n",
        "\n",
        "Input data --> Corresponding lables as well \n",
        "\n",
        "y = m*x + c\n",
        "\n",
        "m = slope and c = intercept \n",
        "\n",
        "output = weight * input + bias\n",
        "\n",
        "output = w1*x1 + w2*x2 + w3*x3 + b\n",
        "\n",
        "x parameters are input parameters and that we already have with us\n",
        "y is dependent on x and w and b\n",
        "\n",
        "w and b are : model parameters \n",
        "\n",
        "\n"
      ],
      "metadata": {
        "id": "_xCmlHwZBFhC"
      },
      "id": "_xCmlHwZBFhC"
    },
    {
      "cell_type": "code",
      "execution_count": 1,
      "id": "8135c1d1",
      "metadata": {
        "colab": {
          "base_uri": "https://localhost:8080/",
          "height": 312
        },
        "id": "8135c1d1",
        "outputId": "96379446-8e69-42b4-cae1-e829debb344a"
      },
      "outputs": [
        {
          "output_type": "display_data",
          "data": {
            "text/plain": [
              "<Figure size 432x288 with 1 Axes>"
            ],
            "image/png": "[encoded data removed]"
          },
          "metadata": {
            "needs_background": "light"
          }
        },
        {
          "output_type": "display_data",
          "data": {
            "text/plain": [
              "<Figure size 1080x1800 with 0 Axes>"
            ]
          },
          "metadata": {}
        }
      ],
      "source": [
        "# Importing Libraries\n",
        "import numpy as np\n",
        "import matplotlib.pyplot as plt\n",
        "\n",
        "# Generating Randomized dataset\n",
        "X = 3*np.random.rand(100,1)\n",
        "y = 9 + 2*X + np.random.rand(100,1)\n",
        "\n",
        "# Scatter plot\n",
        "plt.scatter(X,y)\n",
        "plt.xlabel('Brightness')\n",
        "plt.ylabel('Size')\n",
        "plt.title('Brightness of Star vs Size of Star')\n",
        "plt.figure(figsize=(15,25));"
      ]
    },
    {
      "cell_type": "code",
      "source": [
        "X"
      ],
      "metadata": {
        "id": "EjiGClgOENjn",
        "colab": {
          "base_uri": "https://localhost:8080/"
        },
        "outputId": "afaf1b7d-aeae-4335-80eb-1dfa272ffd66"
      },
      "id": "EjiGClgOENjn",
      "execution_count": 2,
      "outputs": [
        {
          "output_type": "execute_result",
          "data": {
            "text/plain": [
              "array([[2.02535945],\n",
              "       [2.94706257],\n",
              "       [0.70796848],\n",
              "       [1.13880582],\n",
              "       [0.96012837],\n",
              "       [1.80721494],\n",
              "       [1.44382264],\n",
              "       [1.49607722],\n",
              "       [0.39215079],\n",
              "       [0.54334627],\n",
              "       [1.74723448],\n",
              "       [0.11660049],\n",
              "       [2.062611  ],\n",
              "       [0.41758212],\n",
              "       [0.66172224],\n",
              "       [1.5646407 ],\n",
              "       [1.39635237],\n",
              "       [1.20356974],\n",
              "       [1.28661934],\n",
              "       [0.85106072],\n",
              "       [1.01906684],\n",
              "       [1.28542392],\n",
              "       [0.20848209],\n",
              "       [1.35821211],\n",
              "       [0.8685371 ],\n",
              "       [0.06735649],\n",
              "       [2.43546553],\n",
              "       [1.76648831],\n",
              "       [0.50252926],\n",
              "       [0.73045109],\n",
              "       [1.62325162],\n",
              "       [1.37640135],\n",
              "       [2.74216537],\n",
              "       [2.93996962],\n",
              "       [2.89620291],\n",
              "       [1.15340812],\n",
              "       [2.8919508 ],\n",
              "       [0.21805471],\n",
              "       [0.30471491],\n",
              "       [1.27564584],\n",
              "       [2.21925212],\n",
              "       [0.5370681 ],\n",
              "       [1.95737285],\n",
              "       [0.55787188],\n",
              "       [1.4870273 ],\n",
              "       [2.95269646],\n",
              "       [1.58339794],\n",
              "       [1.52047643],\n",
              "       [0.11594791],\n",
              "       [2.49607699],\n",
              "       [2.98952484],\n",
              "       [2.82683113],\n",
              "       [1.34127553],\n",
              "       [1.32122672],\n",
              "       [2.52877035],\n",
              "       [1.34554997],\n",
              "       [2.83432855],\n",
              "       [2.01771388],\n",
              "       [2.43071173],\n",
              "       [2.81322325],\n",
              "       [0.46063697],\n",
              "       [0.97204122],\n",
              "       [1.35350137],\n",
              "       [2.67002988],\n",
              "       [2.37243518],\n",
              "       [0.51539523],\n",
              "       [2.80133505],\n",
              "       [0.50040765],\n",
              "       [0.75646725],\n",
              "       [0.70741744],\n",
              "       [0.18589308],\n",
              "       [0.64706959],\n",
              "       [2.47679153],\n",
              "       [1.37151166],\n",
              "       [1.84911393],\n",
              "       [2.47643758],\n",
              "       [2.65062354],\n",
              "       [2.10750499],\n",
              "       [2.2427242 ],\n",
              "       [2.40817772],\n",
              "       [0.2435847 ],\n",
              "       [0.12325912],\n",
              "       [1.4662204 ],\n",
              "       [1.21020323],\n",
              "       [1.95023872],\n",
              "       [0.46773924],\n",
              "       [1.08204648],\n",
              "       [0.86044436],\n",
              "       [2.66784315],\n",
              "       [0.18210404],\n",
              "       [2.08712465],\n",
              "       [2.5769207 ],\n",
              "       [1.39025069],\n",
              "       [1.157917  ],\n",
              "       [2.79078156],\n",
              "       [2.99786465],\n",
              "       [0.81493293],\n",
              "       [0.34147738],\n",
              "       [0.48065551],\n",
              "       [0.95854847]])"
            ]
          },
          "metadata": {},
          "execution_count": 2
        }
      ]
    },
    {
      "cell_type": "code",
      "source": [
        "y"
      ],
      "metadata": {
        "id": "ONdPvoHjEQap",
        "colab": {
          "base_uri": "https://localhost:8080/"
        },
        "outputId": "f1cdb036-c99d-4759-9221-25419f87d86e"
      },
      "id": "ONdPvoHjEQap",
      "execution_count": 3,
      "outputs": [
        {
          "output_type": "execute_result",
          "data": {
            "text/plain": [
              "array([[13.29738925],\n",
              "       [15.12574253],\n",
              "       [11.32835302],\n",
              "       [11.67637693],\n",
              "       [11.69588312],\n",
              "       [13.39413813],\n",
              "       [12.2148689 ],\n",
              "       [12.72414765],\n",
              "       [10.27327715],\n",
              "       [10.5108198 ],\n",
              "       [12.51038636],\n",
              "       [ 9.89037142],\n",
              "       [13.98321155],\n",
              "       [10.71015079],\n",
              "       [10.91354716],\n",
              "       [12.68056264],\n",
              "       [12.46667702],\n",
              "       [11.74516497],\n",
              "       [11.76818148],\n",
              "       [11.21323508],\n",
              "       [11.23855953],\n",
              "       [11.72217655],\n",
              "       [ 9.67667373],\n",
              "       [12.67441455],\n",
              "       [11.57590646],\n",
              "       [ 9.14034026],\n",
              "       [14.2831789 ],\n",
              "       [12.6544379 ],\n",
              "       [10.45502721],\n",
              "       [11.34527151],\n",
              "       [13.16668702],\n",
              "       [12.07894766],\n",
              "       [14.66865076],\n",
              "       [15.23893796],\n",
              "       [14.91166238],\n",
              "       [11.9554754 ],\n",
              "       [14.97206567],\n",
              "       [10.35698831],\n",
              "       [ 9.74128634],\n",
              "       [11.60547932],\n",
              "       [13.88826443],\n",
              "       [10.43832707],\n",
              "       [13.59545541],\n",
              "       [10.91275155],\n",
              "       [12.42951284],\n",
              "       [15.26145919],\n",
              "       [12.98220251],\n",
              "       [12.98112935],\n",
              "       [ 9.27092307],\n",
              "       [14.7729879 ],\n",
              "       [15.90114134],\n",
              "       [14.7650581 ],\n",
              "       [11.83395827],\n",
              "       [12.4566558 ],\n",
              "       [14.26696519],\n",
              "       [12.34358189],\n",
              "       [14.92083241],\n",
              "       [13.96558111],\n",
              "       [13.89775956],\n",
              "       [15.43707129],\n",
              "       [10.23566722],\n",
              "       [11.92881127],\n",
              "       [12.01694655],\n",
              "       [15.26661384],\n",
              "       [13.9152373 ],\n",
              "       [10.24766642],\n",
              "       [14.86384695],\n",
              "       [10.60985794],\n",
              "       [10.58625875],\n",
              "       [10.99036368],\n",
              "       [10.07268163],\n",
              "       [10.45454474],\n",
              "       [14.58110046],\n",
              "       [12.16087498],\n",
              "       [12.96903288],\n",
              "       [14.08462621],\n",
              "       [15.14541897],\n",
              "       [13.26481274],\n",
              "       [14.43741744],\n",
              "       [14.67423632],\n",
              "       [10.11969313],\n",
              "       [ 9.96561195],\n",
              "       [12.19682732],\n",
              "       [11.89293997],\n",
              "       [13.82448729],\n",
              "       [10.28116903],\n",
              "       [11.40770458],\n",
              "       [10.77893456],\n",
              "       [14.99403626],\n",
              "       [10.21717548],\n",
              "       [13.51742768],\n",
              "       [14.2821908 ],\n",
              "       [12.03108223],\n",
              "       [11.82030625],\n",
              "       [15.51580764],\n",
              "       [15.55472015],\n",
              "       [11.57960919],\n",
              "       [10.2921782 ],\n",
              "       [10.35634698],\n",
              "       [11.31774735]])"
            ]
          },
          "metadata": {},
          "execution_count": 3
        }
      ]
    },
    {
      "cell_type": "code",
      "execution_count": 4,
      "id": "b153b442",
      "metadata": {
        "colab": {
          "base_uri": "https://localhost:8080/"
        },
        "id": "b153b442",
        "outputId": "a270cc77-f3f3-48bb-a1d8-63d917bb09dd"
      },
      "outputs": [
        {
          "output_type": "execute_result",
          "data": {
            "text/plain": [
              "12.178851150173255"
            ]
          },
          "metadata": {},
          "execution_count": 4
        }
      ],
      "source": [
        "# getting the threshold\n",
        "\n",
        "thresh = np.median(y)\n",
        "thresh\n",
        "\n",
        "# now we are concluding that if size of star is bigger than thresh, then it is a BIG star\n",
        "# otherwise it's a SMALL star"
      ]
    },
    {
      "cell_type": "code",
      "execution_count": 5,
      "id": "5282de57",
      "metadata": {
        "colab": {
          "base_uri": "https://localhost:8080/"
        },
        "id": "5282de57",
        "outputId": "d1b85227-6273-42d8-f751-bb8ac69c0cdd"
      },
      "outputs": [
        {
          "output_type": "execute_result",
          "data": {
            "text/plain": [
              "(100, 1)"
            ]
          },
          "metadata": {},
          "execution_count": 5
        }
      ],
      "source": [
        "m, n = X.shape\n",
        "m, n"
      ]
    },
    {
      "cell_type": "markdown",
      "source": [
        "output = W*x +b\n",
        "\n",
        "w,b = 0\n",
        "\n",
        "\n",
        "\n",
        "y_cap = w*X1 + b\n",
        "y = 10.07\n",
        "\n",
        "\n",
        "y_cap = 12\n",
        "\n",
        "\n",
        "find the error between predicated and actual output:\n",
        "\n",
        "Error = (y - y_cap)\n",
        "\n",
        "cost_function = Mean Square Error (L2 Error):\n",
        "\n",
        "C_f = 1/N * (summation (y-y_cap)**2)\n",
        "--------------\n",
        "--------------\n",
        "\n",
        "y_cap =  W*x + b\n",
        "\n",
        "-----------\n",
        "w, b in order to change your output.\n",
        "\n",
        "- minimize the error and update the values of weights and bias \n",
        "\n",
        "after getting the derivative of weight and bias \n",
        "\n",
        "we will update the weights and bias ⁉\n",
        "\n",
        "w_updated = weight_old - learning_rate*(derivative of weight)\n",
        "b_updated = bias_old - learning_rate* (derivative of bias)\n",
        "\n",
        "\n",
        "\n"
      ],
      "metadata": {
        "id": "_vXTo-XXErFK"
      },
      "id": "_vXTo-XXErFK"
    },
    {
      "cell_type": "code",
      "source": [],
      "metadata": {
        "id": "fgYaUMPkEqfv"
      },
      "id": "fgYaUMPkEqfv",
      "execution_count": 5,
      "outputs": []
    },
    {
      "cell_type": "code",
      "execution_count": 6,
      "id": "22397f92",
      "metadata": {
        "id": "22397f92"
      },
      "outputs": [],
      "source": [
        "W = np.zeros(n)\n",
        "b = 0\n",
        "\n",
        "iterations = 1000\n",
        "learning_rate = 0.01"
      ]
    },
    {
      "cell_type": "code",
      "execution_count": 7,
      "id": "f6643906",
      "metadata": {
        "id": "f6643906"
      },
      "outputs": [],
      "source": [
        "def predict(X, W, b):\n",
        "    return W*X + b"
      ]
    },
    {
      "cell_type": "code",
      "execution_count": 8,
      "id": "dbd852f8",
      "metadata": {
        "id": "dbd852f8"
      },
      "outputs": [],
      "source": [
        "def cost_function(X, y, W, b):\n",
        "    n = len(X)\n",
        "    total_error = 0.0\n",
        "    for i in range(n):\n",
        "        total_error += (y[i] - (W*X[i] + b))**2\n",
        "    return total_error / n"
      ]
    },
    {
      "cell_type": "markdown",
      "source": [
        "https://ml-cheatsheet.readthedocs.io/en/latest/linear_regression.html#gradient-descent"
      ],
      "metadata": {
        "id": "1U2-9DjSXbT1"
      },
      "id": "1U2-9DjSXbT1"
    },
    {
      "cell_type": "code",
      "execution_count": 9,
      "id": "ba1cd681",
      "metadata": {
        "id": "ba1cd681"
      },
      "outputs": [],
      "source": [
        "def update_weights(X, y, W, b, learning_rate):\n",
        "    dW = 0\n",
        "    db = 0\n",
        "    n = len(X)\n",
        "\n",
        "    for i in range(n):\n",
        "        # Calculate partial derivatives\n",
        "        # -2x(y - (mx + b))\n",
        "        dW += -2*X[i] * (y[i] - (W*X[i] + b))\n",
        "\n",
        "        # -2(y - (mx + b))\n",
        "        db += -2*(y[i] - (W*X[i] + b))\n",
        "\n",
        "    # We subtract because the derivatives point in direction of steepest ascent\n",
        "    W -= (dW / n) * learning_rate\n",
        "    b -= (db / n) * learning_rate\n",
        "\n",
        "    return W, b"
      ]
    },
    {
      "cell_type": "code",
      "execution_count": 10,
      "id": "bf2d8e30",
      "metadata": {
        "id": "bf2d8e30"
      },
      "outputs": [],
      "source": [
        "def train(X, y, W, b, learning_rate, iterations):\n",
        "    costs = []\n",
        "\n",
        "    for i in range(iterations):\n",
        "        W, b = update_weights(X, y, W, b, learning_rate)\n",
        "\n",
        "        #Calculate cost for auditing purposes\n",
        "        cost = cost_function(X, y, W, b)\n",
        "        costs.append(cost)\n",
        "\n",
        "        # Log Progress\n",
        "        if i % 10 == 0:\n",
        "            print(\"iter={}, weight={}, bias={}, cost={}\".format(i, W, b, cost))\n",
        "\n",
        "    return W, b, costs"
      ]
    },
    {
      "cell_type": "code",
      "execution_count": 11,
      "id": "11396b5c",
      "metadata": {
        "colab": {
          "base_uri": "https://localhost:8080/"
        },
        "id": "11396b5c",
        "outputId": "b6f81a13-9acf-4ab2-e3c2-ac6aabc76282"
      },
      "outputs": [
        {
          "output_type": "stream",
          "name": "stdout",
          "text": [
            "iter=0, weight=[0.39868852], bias=[0.24887166], cost=[136.75569558]\n",
            "iter=10, weight=[3.01329734], bias=[1.9945503], cost=[36.90675304]\n",
            "iter=20, weight=[4.1384149], bias=[2.92826719], cost=[15.31845898]\n",
            "iter=30, weight=[4.58450673], bias=[3.48470472], cost=[10.18916915]\n",
            "iter=40, weight=[4.72253186], bias=[3.86311295], cost=[8.55878203]\n",
            "iter=50, weight=[4.7222216], bias=[4.15493749], cost=[7.7064938]\n",
            "iter=60, weight=[4.66117779], bias=[4.4022557], cost=[7.05834165]\n",
            "iter=70, weight=[4.57482442], bias=[4.62453257], cost=[6.49070637]\n",
            "iter=80, weight=[4.47927829], bias=[4.83087165], cost=[5.9746419]\n",
            "iter=90, weight=[4.38182039], bias=[5.02562454], cost=[5.50129268]\n",
            "iter=100, weight=[4.28569017], bias=[5.21095957], cost=[5.06623876]\n",
            "iter=110, weight=[4.19228048], bias=[5.38803822], cost=[4.66619607]\n",
            "iter=120, weight=[4.10214242], bias=[5.55755409], cost=[4.29830806]\n",
            "iter=130, weight=[4.0154452], bias=[5.71997987], cost=[3.95998204]\n",
            "iter=140, weight=[3.93218662], bias=[5.87568079], cost=[3.6488408]\n",
            "iter=150, weight=[3.85228924], bias=[6.02496673], cost=[3.36269967]\n",
            "iter=160, weight=[3.77564432], bias=[6.16811641], cost=[3.09954982]\n",
            "iter=170, weight=[3.70213179], bias=[6.30538866], cost=[2.85754389]\n",
            "iter=180, weight=[3.63162929], bias=[6.4370278], cost=[2.63498298]\n",
            "iter=190, weight=[3.56401614], bias=[6.5632664], cost=[2.43030471]\n",
            "iter=200, weight=[3.49917512], bias=[6.68432664], cost=[2.2420722]\n",
            "iter=210, weight=[3.43699312], bias=[6.80042122], cost=[2.06896405]\n",
            "iter=220, weight=[3.37736133], bias=[6.91175397], cost=[1.90976503]\n",
            "iter=230, weight=[3.32017529], bias=[7.01852026], cost=[1.76335755]\n",
            "iter=240, weight=[3.26533473], bias=[7.12090741], cost=[1.62871382]\n",
            "iter=250, weight=[3.21274349], bias=[7.21909506], cost=[1.50488862]\n",
            "iter=260, weight=[3.1623093], bias=[7.31325546], cost=[1.3910127]\n",
            "iter=270, weight=[3.11394372], bias=[7.40355378], cost=[1.28628664]\n",
            "iter=280, weight=[3.06756188], bias=[7.49014845], cost=[1.18997525]\n",
            "iter=290, weight=[3.02308243], bias=[7.57319136], cost=[1.10140242]\n",
            "iter=300, weight=[2.98042735], bias=[7.6528282], cost=[1.01994636]\n",
            "iter=310, weight=[2.93952179], bias=[7.72919867], cost=[0.94503524]\n",
            "iter=320, weight=[2.90029402], bias=[7.80243673], cost=[0.87614318]\n",
            "iter=330, weight=[2.8626752], bias=[7.87267088], cost=[0.81278655]\n",
            "iter=340, weight=[2.82659935], bias=[7.94002432], cost=[0.75452059]\n",
            "iter=350, weight=[2.79200318], bias=[8.0046152], cost=[0.70093626]\n",
            "iter=360, weight=[2.758826], bias=[8.06655683], cost=[0.6516574]\n",
            "iter=370, weight=[2.72700961], bias=[8.12595788], cost=[0.60633806]\n",
            "iter=380, weight=[2.69649819], bias=[8.18292254], cost=[0.56466011]\n",
            "iter=390, weight=[2.66723823], bias=[8.23755074], cost=[0.52633094]\n",
            "iter=400, weight=[2.63917839], bias=[8.28993833], cost=[0.49108151]\n",
            "iter=410, weight=[2.61226945], bias=[8.3401772], cost=[0.45866434]\n",
            "iter=420, weight=[2.58646419], bias=[8.38835548], cost=[0.42885187]\n",
            "iter=430, weight=[2.56171737], bias=[8.43455768], cost=[0.40143482]\n",
            "iter=440, weight=[2.53798555], bias=[8.47886487], cost=[0.3762207]\n",
            "iter=450, weight=[2.51522712], bias=[8.52135475], cost=[0.35303253]\n",
            "iter=460, weight=[2.49340214], bias=[8.56210189], cost=[0.33170751]\n",
            "iter=470, weight=[2.47247233], bias=[8.60117774], cost=[0.31209594]\n",
            "iter=480, weight=[2.45240097], bias=[8.63865086], cost=[0.29406015]\n",
            "iter=490, weight=[2.43315286], bias=[8.674587], cost=[0.27747352]\n",
            "iter=500, weight=[2.41469422], bias=[8.70904918], cost=[0.26221962]\n",
            "iter=510, weight=[2.39699268], bias=[8.74209787], cost=[0.24819136]\n",
            "iter=520, weight=[2.38001718], bias=[8.77379104], cost=[0.23529026]\n",
            "iter=530, weight=[2.36373795], bias=[8.80418428], cost=[0.22342575]\n",
            "iter=540, weight=[2.34812643], bias=[8.83333092], cost=[0.21251456]\n",
            "iter=550, weight=[2.33315522], bias=[8.86128209], cost=[0.20248006]\n",
            "iter=560, weight=[2.31879807], bias=[8.88808682], cost=[0.19325184]\n",
            "iter=570, weight=[2.30502979], bias=[8.91379213], cost=[0.18476509]\n",
            "iter=580, weight=[2.29182623], bias=[8.93844312], cost=[0.17696025]\n",
            "iter=590, weight=[2.27916422], bias=[8.96208302], cost=[0.16978253]\n",
            "iter=600, weight=[2.26702156], bias=[8.98475332], cost=[0.16318153]\n",
            "iter=610, weight=[2.25537693], bias=[9.00649377], cost=[0.15711092]\n",
            "iter=620, weight=[2.24420992], bias=[9.02734252], cost=[0.15152807]\n",
            "iter=630, weight=[2.23350094], bias=[9.04733615], cost=[0.14639381]\n",
            "iter=640, weight=[2.22323119], bias=[9.06650971], cost=[0.14167207]\n",
            "iter=650, weight=[2.21338267], bias=[9.08489686], cost=[0.13732973]\n",
            "iter=660, weight=[2.20393809], bias=[9.10252985], cost=[0.13333629]\n",
            "iter=670, weight=[2.19488089], bias=[9.1194396], cost=[0.12966372]\n",
            "iter=680, weight=[2.18619517], bias=[9.13565578], cost=[0.12628624]\n",
            "iter=690, weight=[2.17786571], bias=[9.15120685], cost=[0.12318014]\n",
            "iter=700, weight=[2.16987789], bias=[9.16612007], cost=[0.12032361]\n",
            "iter=710, weight=[2.16221769], bias=[9.18042162], cost=[0.11769661]\n",
            "iter=720, weight=[2.15487169], bias=[9.19413657], cost=[0.11528068]\n",
            "iter=730, weight=[2.14782698], bias=[9.207289], cost=[0.11305887]\n",
            "iter=740, weight=[2.14107123], bias=[9.21990197], cost=[0.11101558]\n",
            "iter=750, weight=[2.13459256], bias=[9.23199761], cost=[0.10913646]\n",
            "iter=760, weight=[2.12837962], bias=[9.24359713], cost=[0.10740834]\n",
            "iter=770, weight=[2.12242151], bias=[9.25472089], cost=[0.10581906]\n",
            "iter=780, weight=[2.11670778], bias=[9.2653884], cost=[0.10435749]\n",
            "iter=790, weight=[2.1112284], bias=[9.27561838], cost=[0.10301335]\n",
            "iter=800, weight=[2.10597376], bias=[9.28542876], cost=[0.10177721]\n",
            "iter=810, weight=[2.10093465], bias=[9.29483676], cost=[0.10064039]\n",
            "iter=820, weight=[2.09610222], bias=[9.30385888], cost=[0.09959492]\n",
            "iter=830, weight=[2.09146799], bias=[9.31251096], cost=[0.09863345]\n",
            "iter=840, weight=[2.08702385], bias=[9.32080816], cost=[0.09774923]\n",
            "iter=850, weight=[2.08276198], bias=[9.32876505], cost=[0.09693606]\n",
            "iter=860, weight=[2.07867492], bias=[9.33639558], cost=[0.09618823]\n",
            "iter=870, weight=[2.07475549], bias=[9.34371313], cost=[0.09550048]\n",
            "iter=880, weight=[2.07099682], bias=[9.35073055], cost=[0.094868]\n",
            "iter=890, weight=[2.06739231], bias=[9.35746015], cost=[0.09428633]\n",
            "iter=900, weight=[2.06393565], bias=[9.36391372], cost=[0.0937514]\n",
            "iter=910, weight=[2.06062076], bias=[9.3701026], cost=[0.09325945]\n",
            "iter=920, weight=[2.05744184], bias=[9.37603763], cost=[0.09280703]\n",
            "iter=930, weight=[2.0543933], bias=[9.38172923], cost=[0.09239097]\n",
            "iter=940, weight=[2.0514698], bias=[9.38718739], cost=[0.09200833]\n",
            "iter=950, weight=[2.04866621], bias=[9.39242168], cost=[0.09165644]\n",
            "iter=960, weight=[2.04597761], bias=[9.39744128], cost=[0.09133282]\n",
            "iter=970, weight=[2.04339929], bias=[9.40225499], cost=[0.0910352]\n",
            "iter=980, weight=[2.04092672], bias=[9.40687127], cost=[0.0907615]\n",
            "iter=990, weight=[2.03855557], bias=[9.41129821], cost=[0.09050979]\n"
          ]
        }
      ],
      "source": [
        "costs = np.zeros(iterations)\n",
        "\n",
        "# Running Gradient Descent\n",
        "#W, b, costs = gradient_descent(X, y, W, b, learning_rate, iterations)\n",
        "W, b, costs = train(X, y, W, b, learning_rate, iterations)"
      ]
    },
    {
      "cell_type": "code",
      "execution_count": 12,
      "id": "cf36656b",
      "metadata": {
        "colab": {
          "base_uri": "https://localhost:8080/"
        },
        "id": "cf36656b",
        "outputId": "338f968f-10d5-4a50-a97f-283651cea231"
      },
      "outputs": [
        {
          "output_type": "execute_result",
          "data": {
            "text/plain": [
              "array([2.03650479])"
            ]
          },
          "metadata": {},
          "execution_count": 12
        }
      ],
      "source": [
        "W"
      ]
    },
    {
      "cell_type": "code",
      "execution_count": 13,
      "id": "d59d388b",
      "metadata": {
        "colab": {
          "base_uri": "https://localhost:8080/"
        },
        "id": "d59d388b",
        "outputId": "7b94a9c1-ab70-448b-c6e4-5c141de19d12"
      },
      "outputs": [
        {
          "output_type": "stream",
          "name": "stdout",
          "text": [
            "Final W value: [2.03650479]\n",
            "Final b value: [9.41512699]\n",
            "Final Cost/MSE(L2 Loss) Value: [0.09030059]\n"
          ]
        }
      ],
      "source": [
        "# printing final values.\n",
        "print('Final W value: {}\\nFinal b value: {}'.format(W, b))\n",
        "print('Final Cost/MSE(L2 Loss) Value: {}'.format(costs[-1]))"
      ]
    },
    {
      "cell_type": "code",
      "execution_count": 14,
      "id": "7384e581",
      "metadata": {
        "colab": {
          "base_uri": "https://localhost:8080/",
          "height": 312
        },
        "id": "7384e581",
        "outputId": "a89f2dbf-197a-4c79-c76a-c5d0c299745d"
      },
      "outputs": [
        {
          "output_type": "execute_result",
          "data": {
            "text/plain": [
              "Text(0.5, 1.0, 'Cost vs Iterations Analysis')"
            ]
          },
          "metadata": {},
          "execution_count": 14
        },
        {
          "output_type": "display_data",
          "data": {
            "text/plain": [
              "<Figure size 432x288 with 1 Axes>"
            ],
            "image/png": "[encoded data removed]"
          },
          "metadata": {
            "needs_background": "light"
          }
        }
      ],
      "source": [
        "# Plotting Line Plot for Number of Iterations vs MSE\n",
        "plt.plot(range(iterations),costs)\n",
        "plt.xlabel('Number of Iterations')\n",
        "plt.ylabel('Mean Squared Error')\n",
        "plt.title('Cost vs Iterations Analysis')"
      ]
    },
    {
      "cell_type": "code",
      "source": [],
      "metadata": {
        "id": "NVSuHwztaJVj"
      },
      "id": "NVSuHwztaJVj",
      "execution_count": 14,
      "outputs": []
    },
    {
      "cell_type": "code",
      "execution_count": 15,
      "id": "1d03bc56",
      "metadata": {
        "colab": {
          "base_uri": "https://localhost:8080/"
        },
        "id": "1d03bc56",
        "outputId": "b9909f12-23e6-496d-c4e2-8c06bfdfe688"
      },
      "outputs": [
        {
          "output_type": "stream",
          "name": "stdout",
          "text": [
            "Data point: [[0.81717422]\n",
            " [0.64210761]\n",
            " [2.20112307]\n",
            " [2.29853484]\n",
            " [0.3765572 ]\n",
            " [2.23280059]\n",
            " [2.24668349]\n",
            " [0.22462218]\n",
            " [0.66899268]\n",
            " [1.89073452]], [[11.62922623]\n",
            " [10.59422373]\n",
            " [14.29597188]\n",
            " [14.43054348]\n",
            " [10.20586942]\n",
            " [14.12151208]\n",
            " [13.63107149]\n",
            " [10.05672641]\n",
            " [10.79120266]\n",
            " [13.77328518]]\n"
          ]
        }
      ],
      "source": [
        "# Prediction\n",
        "\n",
        "# Generate data points like before\n",
        "X_test = 3*np.random.rand(10,1)\n",
        "y_test = 9 + 2*X_test + np.random.rand(10,1)\n",
        "\n",
        "# Show the data point\n",
        "data_string = 'Data point: {}, {}'\n",
        "print(data_string.format(X_test, y_test))"
      ]
    },
    {
      "cell_type": "code",
      "execution_count": 16,
      "id": "c9a87c0f",
      "metadata": {
        "colab": {
          "base_uri": "https://localhost:8080/"
        },
        "id": "c9a87c0f",
        "outputId": "d464822d-ff49-4ba1-bf1a-404a9ac18025"
      },
      "outputs": [
        {
          "output_type": "execute_result",
          "data": {
            "text/plain": [
              "array([[11.0793062 ],\n",
              "       [10.72278221],\n",
              "       [13.89772466],\n",
              "       [14.09610421],\n",
              "       [10.18198754],\n",
              "       [13.96223608],\n",
              "       [13.99050869],\n",
              "       [ 9.87257113],\n",
              "       [10.77753378],\n",
              "       [13.2656169 ]])"
            ]
          },
          "metadata": {},
          "execution_count": 16
        }
      ],
      "source": [
        "prediction = predict(X_test, W, b)\n",
        "prediction"
      ]
    },
    {
      "cell_type": "code",
      "execution_count": 17,
      "id": "b1631e94",
      "metadata": {
        "colab": {
          "base_uri": "https://localhost:8080/"
        },
        "id": "b1631e94",
        "outputId": "1c38ec3d-d0ce-42e5-e031-9dec29ba7ee6"
      },
      "outputs": [
        {
          "output_type": "execute_result",
          "data": {
            "text/plain": [
              "0.8"
            ]
          },
          "metadata": {},
          "execution_count": 17
        }
      ],
      "source": [
        "score = float(sum(np.round(prediction) == np.round(y_test)))/ float(len(y_test))\n",
        "score"
      ]
    },
    {
      "cell_type": "code",
      "execution_count": 18,
      "id": "79de7593",
      "metadata": {
        "colab": {
          "base_uri": "https://localhost:8080/",
          "height": 282
        },
        "id": "79de7593",
        "outputId": "7a48a252-2bd4-4bdd-fa1d-30e39856bfa0"
      },
      "outputs": [
        {
          "output_type": "execute_result",
          "data": {
            "text/plain": [
              "[<matplotlib.lines.Line2D at 0x7fb550062610>]"
            ]
          },
          "metadata": {},
          "execution_count": 18
        },
        {
          "output_type": "display_data",
          "data": {
            "text/plain": [
              "<Figure size 432x288 with 1 Axes>"
            ],
            "image/png": "[encoded data removed]"
          },
          "metadata": {
            "needs_background": "light"
          }
        }
      ],
      "source": [
        "plt.scatter(X_test, y_test, color=\"blue\", label=\"original\")\n",
        "plt.plot(X_test, prediction, color=\"red\", label=\"predicted\")"
      ]
    },
    {
      "cell_type": "code",
      "execution_count": 19,
      "id": "fe943512",
      "metadata": {
        "colab": {
          "base_uri": "https://localhost:8080/"
        },
        "id": "fe943512",
        "outputId": "49d6a63b-c4c8-40c3-dc14-0c89f2390bb3"
      },
      "outputs": [
        {
          "output_type": "stream",
          "name": "stdout",
          "text": [
            "Data point: [[1.83656022]], [[13.03559453]]\n"
          ]
        }
      ],
      "source": [
        "# Let's talk about one star now!\n",
        "\n",
        "#Generate one data point\n",
        "X_test = 3*np.random.rand(1,1)\n",
        "y_test = 9 + 2*X_test + np.random.rand(1,1)\n",
        "\n",
        "# Show the data point\n",
        "data_string = 'Data point: {}, {}'\n",
        "print(data_string.format(X_test, y_test))"
      ]
    },
    {
      "cell_type": "code",
      "execution_count": 20,
      "id": "9dfa5f35",
      "metadata": {
        "colab": {
          "base_uri": "https://localhost:8080/"
        },
        "id": "9dfa5f35",
        "outputId": "aa13f7b4-caea-4708-e548-cb0b90e344e6"
      },
      "outputs": [
        {
          "output_type": "execute_result",
          "data": {
            "text/plain": [
              "array([[13.15529068]])"
            ]
          },
          "metadata": {},
          "execution_count": 20
        }
      ],
      "source": [
        "prediction = predict(X_test, W, b)\n",
        "prediction"
      ]
    },
    {
      "cell_type": "code",
      "execution_count": 21,
      "id": "ce158934",
      "metadata": {
        "id": "ce158934",
        "outputId": "0e6d665e-eda1-47e0-c934-93d493affcad",
        "colab": {
          "base_uri": "https://localhost:8080/"
        }
      },
      "outputs": [
        {
          "output_type": "execute_result",
          "data": {
            "text/plain": [
              "1.0"
            ]
          },
          "metadata": {},
          "execution_count": 21
        }
      ],
      "source": [
        "score = float(sum(np.round(prediction) == np.round(y_test)))/ float(len(y_test))\n",
        "score"
      ]
    },
    {
      "cell_type": "code",
      "execution_count": 22,
      "id": "77dc0cad",
      "metadata": {
        "colab": {
          "base_uri": "https://localhost:8080/"
        },
        "id": "77dc0cad",
        "outputId": "99234272-d482-4345-bb3c-b6d3540563ce"
      },
      "outputs": [
        {
          "output_type": "stream",
          "name": "stdout",
          "text": [
            "We've got a big star..\n"
          ]
        }
      ],
      "source": [
        "if prediction >= thresh:\n",
        "    print('We\\'ve got a big star..')\n",
        "else:\n",
        "    print('We\\'ve got a cute lil star!')"
      ]
    },
    {
      "cell_type": "code",
      "execution_count": 22,
      "id": "ca520fc6",
      "metadata": {
        "id": "ca520fc6"
      },
      "outputs": [],
      "source": []
    }
  ],
  "metadata": {
    "kernelspec": {
      "display_name": "Python 3 (ipykernel)",
      "language": "python",
      "name": "python3"
    },
    "language_info": {
      "codemirror_mode": {
        "name": "ipython",
        "version": 3
      },
      "file_extension": ".py",
      "mimetype": "text/x-python",
      "name": "python",
      "nbconvert_exporter": "python",
      "pygments_lexer": "ipython3",
      "version": "3.7.3"
    },
    "colab": {
      "provenance": [],
      "include_colab_link": true
    }
  },
  "nbformat": 4,
  "nbformat_minor": 5
}