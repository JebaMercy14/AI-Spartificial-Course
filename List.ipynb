{
  "nbformat": 4,
  "nbformat_minor": 0,
  "metadata": {
    "colab": {
      "provenance": [],
      "include_colab_link": true
    },
    "kernelspec": {
      "name": "python3",
      "display_name": "Python 3"
    },
    "language_info": {
      "name": "python"
    }
  },
  "cells": [
    {
      "cell_type": "markdown",
      "metadata": {
        "id": "view-in-github",
        "colab_type": "text"
      },
      "source": [
        "<a href=\"https://colab.research.google.com/github/JebaMercy14/AI-Spartificial-Course/blob/main/List.ipynb\" target=\"_parent\"><img src=\"https://colab.research.google.com/assets/colab-badge.svg\" alt=\"Open In Colab\"/></a>"
      ]
    },
    {
      "cell_type": "markdown",
      "source": [
        "In Python, list is an ordered collection of items. \n",
        "\n",
        "It is defined using square brackets `[]`."
      ],
      "metadata": {
        "id": "Nb0opltNcZog"
      }
    },
    {
      "cell_type": "code",
      "execution_count": 1,
      "metadata": {
        "id": "R0Jgv8nRbiBX"
      },
      "outputs": [],
      "source": [
        "my_languages = ['Python', 'JAVA', 'R', 'Julia', 'Lua']"
      ]
    },
    {
      "cell_type": "code",
      "source": [
        "print(my_languages)"
      ],
      "metadata": {
        "colab": {
          "base_uri": "https://localhost:8080/"
        },
        "id": "sjgdlyupdNDl",
        "outputId": "6216ad73-654b-4a46-d3e2-961da7a4f49b"
      },
      "execution_count": 2,
      "outputs": [
        {
          "output_type": "stream",
          "name": "stdout",
          "text": [
            "['Python', 'JAVA', 'R', 'Julia', 'Lua']\n"
          ]
        }
      ]
    },
    {
      "cell_type": "code",
      "source": [
        "my_marks = [88, 91, 100]\n",
        "\n",
        "my_coords = [[0, 0], [100, 100], [200, 200]]\n",
        "\n",
        "print(my_coords)"
      ],
      "metadata": {
        "colab": {
          "base_uri": "https://localhost:8080/"
        },
        "id": "e73NqPvIdV8Z",
        "outputId": "fd120dd7-f472-4255-9c04-93ca944d059f"
      },
      "execution_count": 3,
      "outputs": [
        {
          "output_type": "stream",
          "name": "stdout",
          "text": [
            "[[0, 0], [100, 100], [200, 200]]\n"
          ]
        }
      ]
    },
    {
      "cell_type": "code",
      "source": [
        "# Access elements of a list - even with negative indices\n",
        "\n",
        "print(my_marks[0])\n",
        "print(my_marks[-1])\n",
        "print(my_marks[-2])"
      ],
      "metadata": {
        "colab": {
          "base_uri": "https://localhost:8080/"
        },
        "id": "v4H1pMTye8xJ",
        "outputId": "cdf91456-b19a-47e8-e32c-0ed354f7ca66"
      },
      "execution_count": 4,
      "outputs": [
        {
          "output_type": "stream",
          "name": "stdout",
          "text": [
            "88\n",
            "100\n",
            "91\n"
          ]
        }
      ]
    },
    {
      "cell_type": "code",
      "source": [
        "# Modifying a list\n",
        "\n",
        "my_marks[-1] = 99\n",
        "\n",
        "print(my_marks)"
      ],
      "metadata": {
        "colab": {
          "base_uri": "https://localhost:8080/"
        },
        "id": "dsI6cEgpfgwA",
        "outputId": "40ff0804-efed-49df-cf5e-59b6716d985c"
      },
      "execution_count": 5,
      "outputs": [
        {
          "output_type": "stream",
          "name": "stdout",
          "text": [
            "[88, 91, 99]\n"
          ]
        }
      ]
    },
    {
      "cell_type": "code",
      "source": [
        "# Add new elements to lists - append() for end of list\n",
        "\n",
        "my_marks.append(65)\n",
        "\n",
        "print(my_marks)"
      ],
      "metadata": {
        "colab": {
          "base_uri": "https://localhost:8080/"
        },
        "id": "a50bzBoKfwEl",
        "outputId": "3be32719-b6e7-43fe-e9f7-fbf0ec99b76e"
      },
      "execution_count": 6,
      "outputs": [
        {
          "output_type": "stream",
          "name": "stdout",
          "text": [
            "[88, 91, 99, 65]\n"
          ]
        }
      ]
    },
    {
      "cell_type": "code",
      "source": [
        "# Add new elements to lists - insert() for any position\n",
        "\n",
        "my_marks.insert(1, 95)\n",
        "\n",
        "print(my_marks)"
      ],
      "metadata": {
        "colab": {
          "base_uri": "https://localhost:8080/"
        },
        "id": "jeQ8-go2gALr",
        "outputId": "ac42e819-f37c-47bb-8ba5-f74e10c2ecf0"
      },
      "execution_count": 7,
      "outputs": [
        {
          "output_type": "stream",
          "name": "stdout",
          "text": [
            "[88, 95, 91, 99, 65]\n"
          ]
        }
      ]
    },
    {
      "cell_type": "code",
      "source": [
        "# Remove elements from lists - any position\n",
        "\n",
        "del my_marks[3]\n",
        "\n",
        "print(my_marks)"
      ],
      "metadata": {
        "colab": {
          "base_uri": "https://localhost:8080/"
        },
        "id": "iWZt6OhIgN3r",
        "outputId": "8197104b-a088-4fda-cb23-69e89c2c1f3a"
      },
      "execution_count": 8,
      "outputs": [
        {
          "output_type": "stream",
          "name": "stdout",
          "text": [
            "[88, 95, 91, 65]\n"
          ]
        }
      ]
    },
    {
      "cell_type": "code",
      "source": [
        "# Remove elements from lists - last position\n",
        "\n",
        "print(my_marks.pop())\n",
        "print(my_marks)\n",
        "\n",
        "# Typically, you use the pop() method when you want to remove an element from a list and still want to access the value of that element."
      ],
      "metadata": {
        "colab": {
          "base_uri": "https://localhost:8080/"
        },
        "id": "2avKD0Y2gfgG",
        "outputId": "37c38680-3760-41c3-e86c-fa7f6276fb1a"
      },
      "execution_count": 9,
      "outputs": [
        {
          "output_type": "stream",
          "name": "stdout",
          "text": [
            "65\n",
            "[88, 95, 91]\n"
          ]
        }
      ]
    },
    {
      "cell_type": "code",
      "source": [
        "# Remove elements from lists - by value\n",
        "\n",
        "my_marks.remove(95)\n",
        "print(my_marks)"
      ],
      "metadata": {
        "colab": {
          "base_uri": "https://localhost:8080/"
        },
        "id": "OrBP7-SzhANk",
        "outputId": "d80516d4-291d-4de5-f89e-28d927b24b34"
      },
      "execution_count": 10,
      "outputs": [
        {
          "output_type": "stream",
          "name": "stdout",
          "text": [
            "[88, 91]\n"
          ]
        }
      ]
    },
    {
      "cell_type": "markdown",
      "source": [
        "#### Tuple - Immutable lists"
      ],
      "metadata": {
        "id": "qP29xMcV1hb6"
      }
    },
    {
      "cell_type": "code",
      "source": [
        "healthy_food_choices = ('oats', 'chicken', 'veggies')\n",
        "\n",
        "print(healthy_food_choices[0])"
      ],
      "metadata": {
        "colab": {
          "base_uri": "https://localhost:8080/"
        },
        "id": "DcISvSgS1gvl",
        "outputId": "30d71f80-585a-4d87-a6e5-119e64c36366"
      },
      "execution_count": 11,
      "outputs": [
        {
          "output_type": "stream",
          "name": "stdout",
          "text": [
            "oats\n"
          ]
        }
      ]
    },
    {
      "cell_type": "code",
      "source": [
        "healthy_food_choices[1] = 'brown rice'"
      ],
      "metadata": {
        "colab": {
          "base_uri": "https://localhost:8080/",
          "height": 165
        },
        "id": "zEzFYA5V23Fs",
        "outputId": "f356fe8e-47e5-4d67-c576-eb1b47f1cc6f"
      },
      "execution_count": 12,
      "outputs": [
        {
          "output_type": "error",
          "ename": "TypeError",
          "evalue": "ignored",
          "traceback": [
            "\u001b[0;31m---------------------------------------------------------------------------\u001b[0m",
            "\u001b[0;31mTypeError\u001b[0m                                 Traceback (most recent call last)",
            "\u001b[0;32m<ipython-input-12-a7a592486183>\u001b[0m in \u001b[0;36m<module>\u001b[0;34m\u001b[0m\n\u001b[0;32m----> 1\u001b[0;31m \u001b[0mhealthy_food_choices\u001b[0m\u001b[0;34m[\u001b[0m\u001b[0;36m1\u001b[0m\u001b[0;34m]\u001b[0m \u001b[0;34m=\u001b[0m \u001b[0;34m'brown rice'\u001b[0m\u001b[0;34m\u001b[0m\u001b[0;34m\u001b[0m\u001b[0m\n\u001b[0m",
            "\u001b[0;31mTypeError\u001b[0m: 'tuple' object does not support item assignment"
          ]
        }
      ]
    },
    {
      "cell_type": "code",
      "source": [
        "# You can't change one element, but you can assign a full tuple to a tuple var!\n",
        "\n",
        "healthy_food_choices = ('eggs', 'quinoa', 'veggies')\n",
        "\n",
        "print(healthy_food_choices[1])\n",
        "print(healthy_food_choices)"
      ],
      "metadata": {
        "colab": {
          "base_uri": "https://localhost:8080/"
        },
        "id": "FsyV6XHX3Hne",
        "outputId": "16f9e761-4180-457a-a4b0-608689c08050"
      },
      "execution_count": 13,
      "outputs": [
        {
          "output_type": "stream",
          "name": "stdout",
          "text": [
            "quinoa\n",
            "('eggs', 'quinoa', 'veggies')\n"
          ]
        }
      ]
    },
    {
      "cell_type": "code",
      "source": [
        "# Another way to use tuples!\n",
        "numbers = (3,)\n",
        "print(type(numbers))"
      ],
      "metadata": {
        "colab": {
          "base_uri": "https://localhost:8080/"
        },
        "id": "5D8CP6lN35Y8",
        "outputId": "d491830c-9ff1-4d8b-b0f6-f22e283e17b6"
      },
      "execution_count": 14,
      "outputs": [
        {
          "output_type": "stream",
          "name": "stdout",
          "text": [
            "<class 'tuple'>\n"
          ]
        }
      ]
    },
    {
      "cell_type": "code",
      "source": [
        "numbers = (300, 600, 800)\n",
        "print(numbers[-1])"
      ],
      "metadata": {
        "colab": {
          "base_uri": "https://localhost:8080/"
        },
        "id": "yaWIufCy36rV",
        "outputId": "a51eda10-b9ec-4a86-9641-35ccf2334b6b"
      },
      "execution_count": 15,
      "outputs": [
        {
          "output_type": "stream",
          "name": "stdout",
          "text": [
            "800\n"
          ]
        }
      ]
    },
    {
      "cell_type": "markdown",
      "source": [
        "#### sort() function on lists - to sort in-place."
      ],
      "metadata": {
        "id": "DT5fqsSa4opU"
      }
    },
    {
      "cell_type": "code",
      "source": [
        "my_marks = [80, 91, 78, 100, 87]\n",
        "\n",
        "print(my_marks)\n",
        "my_marks.sort()\n",
        "print(my_marks)"
      ],
      "metadata": {
        "colab": {
          "base_uri": "https://localhost:8080/"
        },
        "id": "f-Be9NKe4n4k",
        "outputId": "05bf4d41-645f-4220-e0d5-fa47e44a7e95"
      },
      "execution_count": 16,
      "outputs": [
        {
          "output_type": "stream",
          "name": "stdout",
          "text": [
            "[80, 91, 78, 100, 87]\n",
            "[78, 80, 87, 91, 100]\n"
          ]
        }
      ]
    },
    {
      "cell_type": "code",
      "source": [
        "my_students = ['Shubham', 'Atharv', 'Prasad', 'Ahaan', 'Selva', 'Prateek', 'Deena']\n",
        "my_students.sort()\n",
        "print(my_students)"
      ],
      "metadata": {
        "colab": {
          "base_uri": "https://localhost:8080/"
        },
        "id": "IEdPG_Bd5FPU",
        "outputId": "f04491f2-8da6-42d2-cd29-fe1e2f0d5c8d"
      },
      "execution_count": 17,
      "outputs": [
        {
          "output_type": "stream",
          "name": "stdout",
          "text": [
            "['Ahaan', 'Atharv', 'Deena', 'Prasad', 'Prateek', 'Selva', 'Shubham']\n"
          ]
        }
      ]
    },
    {
      "cell_type": "code",
      "source": [
        "my_students.sort(reverse=True)\n",
        "print(my_students)"
      ],
      "metadata": {
        "colab": {
          "base_uri": "https://localhost:8080/"
        },
        "id": "bLqujqFk5iDz",
        "outputId": "d984be03-002a-44b7-dad9-03ef96df67dc"
      },
      "execution_count": 18,
      "outputs": [
        {
          "output_type": "stream",
          "name": "stdout",
          "text": [
            "['Shubham', 'Selva', 'Prateek', 'Prasad', 'Deena', 'Atharv', 'Ahaan']\n"
          ]
        }
      ]
    },
    {
      "cell_type": "code",
      "source": [
        "companies = [('Meta', 2021, 150.6),\n",
        "             ('Apple', 2019, 102.8),\n",
        "             ('Netflix', 2020, 95.6)]\n",
        "\n",
        "companies.sort()\n",
        "print(companies)\n",
        "\n",
        "companies.sort(reverse=True)\n",
        "print(companies) # default sorting happens as per 1st value of tuple"
      ],
      "metadata": {
        "colab": {
          "base_uri": "https://localhost:8080/"
        },
        "id": "E_5lBpVg5lEN",
        "outputId": "ae62cd74-c81b-4bc2-81fe-74f447efd95c"
      },
      "execution_count": 19,
      "outputs": [
        {
          "output_type": "stream",
          "name": "stdout",
          "text": [
            "[('Apple', 2019, 102.8), ('Meta', 2021, 150.6), ('Netflix', 2020, 95.6)]\n",
            "[('Netflix', 2020, 95.6), ('Meta', 2021, 150.6), ('Apple', 2019, 102.8)]\n"
          ]
        }
      ]
    },
    {
      "cell_type": "code",
      "source": [
        "# what if you want to sort by a parameter set by you? \n",
        "\n",
        "def sort_key(company):\n",
        "    return company[2]\n",
        "\n",
        "companies.sort(key=sort_key)\n",
        "print(companies)\n",
        "\n",
        "companies.sort(key=sort_key, reverse=True)\n",
        "print(companies)"
      ],
      "metadata": {
        "colab": {
          "base_uri": "https://localhost:8080/"
        },
        "id": "K-ah3Tgc8-bE",
        "outputId": "8050776c-b5f7-4465-f581-765cf5c34b45"
      },
      "execution_count": 20,
      "outputs": [
        {
          "output_type": "stream",
          "name": "stdout",
          "text": [
            "[('Netflix', 2020, 95.6), ('Apple', 2019, 102.8), ('Meta', 2021, 150.6)]\n",
            "[('Meta', 2021, 150.6), ('Apple', 2019, 102.8), ('Netflix', 2020, 95.6)]\n"
          ]
        }
      ]
    },
    {
      "cell_type": "code",
      "source": [
        "companies = [('Meta', 2021, 150.6),\n",
        "             ('Apple', 2019, 102.8),\n",
        "             ('Netflix', 2020, 95.6)]\n",
        "\n",
        "companies.sort(key=lambda company: company[2])\n",
        "print(companies)\n",
        "\n",
        "companies.sort(key=sort_key, reverse=True)\n",
        "print(companies)"
      ],
      "metadata": {
        "colab": {
          "base_uri": "https://localhost:8080/"
        },
        "id": "7HaRllEd9zTs",
        "outputId": "da59a7d4-7d50-46fc-bfb9-d35794e3479a"
      },
      "execution_count": 21,
      "outputs": [
        {
          "output_type": "stream",
          "name": "stdout",
          "text": [
            "[('Netflix', 2020, 95.6), ('Apple', 2019, 102.8), ('Meta', 2021, 150.6)]\n",
            "[('Meta', 2021, 150.6), ('Apple', 2019, 102.8), ('Netflix', 2020, 95.6)]\n"
          ]
        }
      ]
    },
    {
      "cell_type": "code",
      "source": [
        "# To return the new sorted list from the original list, you use the sorted() function:\n",
        "\n",
        "# The original list does not change here!\n",
        "\n",
        "my_students = ['Shubham', 'Atharv', 'Prasad', 'Ahaan', 'Selva', 'Prateek', 'Deena']\n",
        "my_sorted_students = sorted(my_students)\n",
        "\n",
        "print(my_students)\n",
        "print(my_sorted_students)"
      ],
      "metadata": {
        "colab": {
          "base_uri": "https://localhost:8080/"
        },
        "id": "Y9JgFrfw8ejU",
        "outputId": "398340fe-dcfb-4cc8-abc6-d8d3b9f4e22b"
      },
      "execution_count": 22,
      "outputs": [
        {
          "output_type": "stream",
          "name": "stdout",
          "text": [
            "['Shubham', 'Atharv', 'Prasad', 'Ahaan', 'Selva', 'Prateek', 'Deena']\n",
            "['Ahaan', 'Atharv', 'Deena', 'Prasad', 'Prateek', 'Selva', 'Shubham']\n"
          ]
        }
      ]
    },
    {
      "cell_type": "code",
      "source": [
        "my_students = ['Shubham', 'Atharv', 'Prasad', 'Ahaan', 'Selva', 'Prateek', 'Deena']\n",
        "my_sorted_students_desc = sorted(my_students, reverse=True)\n",
        "\n",
        "print(my_students)\n",
        "print(my_sorted_students_desc)"
      ],
      "metadata": {
        "colab": {
          "base_uri": "https://localhost:8080/"
        },
        "id": "u11JXp7o-o7W",
        "outputId": "52de9aa1-4e2b-4cc9-ebd2-a6a9cb0718a5"
      },
      "execution_count": 23,
      "outputs": [
        {
          "output_type": "stream",
          "name": "stdout",
          "text": [
            "['Shubham', 'Atharv', 'Prasad', 'Ahaan', 'Selva', 'Prateek', 'Deena']\n",
            "['Shubham', 'Selva', 'Prateek', 'Prasad', 'Deena', 'Atharv', 'Ahaan']\n"
          ]
        }
      ]
    },
    {
      "cell_type": "markdown",
      "source": [
        "#### Slicing lists"
      ],
      "metadata": {
        "id": "L5TXn5rW_Ie0"
      }
    },
    {
      "cell_type": "code",
      "source": [
        "# list[begin: end: step]\n",
        "\n",
        "flowers = ['tulip', 'rose', 'lily', 'iris', 'daisy', 'orchid', 'jasmine', 'poppy', 'ivy', 'violet', 'holly', 'heather']\n",
        "\n",
        "chosen_flowers = flowers[2:5]\n",
        "print(chosen_flowers)\n",
        "\n",
        "chosen_flowers_new = flowers[2:13:3]\n",
        "print(chosen_flowers_new)"
      ],
      "metadata": {
        "colab": {
          "base_uri": "https://localhost:8080/"
        },
        "id": "pnoufDVa_K6c",
        "outputId": "a3761fcb-0c4c-48d0-9d22-f0d57dadf57b"
      },
      "execution_count": 24,
      "outputs": [
        {
          "output_type": "stream",
          "name": "stdout",
          "text": [
            "['lily', 'iris', 'daisy']\n",
            "['lily', 'orchid', 'ivy', 'heather']\n"
          ]
        }
      ]
    },
    {
      "cell_type": "code",
      "source": [
        "# To get the n-first elements from a list, you omit the begin argument: list[:n]\n",
        "\n",
        "print(flowers[:5])\n",
        "\n",
        "# this is actually equivalent to\n",
        "\n",
        "print(flowers[0:5])"
      ],
      "metadata": {
        "colab": {
          "base_uri": "https://localhost:8080/"
        },
        "id": "Y8BAQLHQBomU",
        "outputId": "860f79f9-a12e-4e96-cad8-bd52cd4851b5"
      },
      "execution_count": 25,
      "outputs": [
        {
          "output_type": "stream",
          "name": "stdout",
          "text": [
            "['tulip', 'rose', 'lily', 'iris', 'daisy']\n",
            "['tulip', 'rose', 'lily', 'iris', 'daisy']\n"
          ]
        }
      ]
    },
    {
      "cell_type": "code",
      "source": [
        "# To return a sublist that includes every nth element:\n",
        "\n",
        "flowers[::2]"
      ],
      "metadata": {
        "colab": {
          "base_uri": "https://localhost:8080/"
        },
        "id": "djKxLdpBB9Ts",
        "outputId": "b04326bd-5683-4296-df3b-6a9f4f6344ce"
      },
      "execution_count": 26,
      "outputs": [
        {
          "output_type": "execute_result",
          "data": {
            "text/plain": [
              "['tulip', 'lily', 'daisy', 'jasmine', 'ivy', 'holly']"
            ]
          },
          "metadata": {},
          "execution_count": 26
        }
      ]
    },
    {
      "cell_type": "code",
      "source": [
        "# Using Python List slice to reverse a list\n",
        "\n",
        "reversed_flowers = flowers[::-1]\n",
        "print(reversed_flowers)\n",
        "\n",
        "# When you use a negative step, the slice includes the list elements starting from the last element to the first element. \n",
        "\n",
        "reversed_flowers = flowers[::-2]\n",
        "print(reversed_flowers)"
      ],
      "metadata": {
        "colab": {
          "base_uri": "https://localhost:8080/"
        },
        "id": "sbV43OVCCNMc",
        "outputId": "0be5ca8e-1604-461b-c3ab-98e2aa99da82"
      },
      "execution_count": 27,
      "outputs": [
        {
          "output_type": "stream",
          "name": "stdout",
          "text": [
            "['heather', 'holly', 'violet', 'ivy', 'poppy', 'jasmine', 'orchid', 'daisy', 'iris', 'lily', 'rose', 'tulip']\n",
            "['heather', 'violet', 'poppy', 'orchid', 'iris', 'rose']\n"
          ]
        }
      ]
    },
    {
      "cell_type": "code",
      "source": [
        "# Using Python List slice to substitute part a list\n",
        "\n",
        "flowers[0:2] = ['dahlia', 'peony']\n",
        "print(flowers)"
      ],
      "metadata": {
        "colab": {
          "base_uri": "https://localhost:8080/"
        },
        "id": "_LWQwkJHYsJO",
        "outputId": "b3ed0a9c-3137-41fa-e626-cdda41de9089"
      },
      "execution_count": 28,
      "outputs": [
        {
          "output_type": "stream",
          "name": "stdout",
          "text": [
            "['dahlia', 'peony', 'lily', 'iris', 'daisy', 'orchid', 'jasmine', 'poppy', 'ivy', 'violet', 'holly', 'heather']\n"
          ]
        }
      ]
    },
    {
      "cell_type": "code",
      "source": [
        "# Using Python List slice to partially replace and resize a list\n",
        "\n",
        "flowers[0:2] = ['hyacinth', 'lila', 'yolanda']\n",
        "print(flowers)"
      ],
      "metadata": {
        "colab": {
          "base_uri": "https://localhost:8080/"
        },
        "id": "TeTBqMQxZIQt",
        "outputId": "37c1be4e-037d-419f-a94a-089ca2ba4f86"
      },
      "execution_count": 29,
      "outputs": [
        {
          "output_type": "stream",
          "name": "stdout",
          "text": [
            "['hyacinth', 'lila', 'yolanda', 'lily', 'iris', 'daisy', 'orchid', 'jasmine', 'poppy', 'ivy', 'violet', 'holly', 'heather']\n"
          ]
        }
      ]
    },
    {
      "cell_type": "code",
      "source": [
        "flowers[0:2] = ['sage']\n",
        "print(flowers)\n",
        "\n",
        "# 0 to 2 flowers got replaced with sage"
      ],
      "metadata": {
        "colab": {
          "base_uri": "https://localhost:8080/"
        },
        "id": "D62s6ivTZb3c",
        "outputId": "da600171-76d2-4f20-d7fb-22cc1803aa05"
      },
      "execution_count": 30,
      "outputs": [
        {
          "output_type": "stream",
          "name": "stdout",
          "text": [
            "['sage', 'yolanda', 'lily', 'iris', 'daisy', 'orchid', 'jasmine', 'poppy', 'ivy', 'violet', 'holly', 'heather']\n"
          ]
        }
      ]
    },
    {
      "cell_type": "code",
      "source": [
        "del flowers[5:7]\n",
        "print(flowers)"
      ],
      "metadata": {
        "colab": {
          "base_uri": "https://localhost:8080/"
        },
        "id": "CMEAz7LsZvpE",
        "outputId": "e785c505-3b9a-4ed2-dc57-edb9409a184a"
      },
      "execution_count": 31,
      "outputs": [
        {
          "output_type": "stream",
          "name": "stdout",
          "text": [
            "['sage', 'yolanda', 'lily', 'iris', 'daisy', 'poppy', 'ivy', 'violet', 'holly', 'heather']\n"
          ]
        }
      ]
    },
    {
      "cell_type": "code",
      "source": [
        "nums = [[1, 2, 3, 4, 5, 6], \n",
        "        [7, 8, 9, 10, 11, 12], \n",
        "        [13, 14, 15, 16, 17, 18]]\n",
        "\n",
        "for i in range(len(nums)):\n",
        "  if i < 2:\n",
        "    print(nums[i][::2])\n",
        "  else:\n",
        "    print(nums[i][::-2])"
      ],
      "metadata": {
        "id": "FUVXKbbkSDj5",
        "colab": {
          "base_uri": "https://localhost:8080/"
        },
        "outputId": "72c8cf63-68e2-4250-f75d-a3ac56f304dd"
      },
      "execution_count": 32,
      "outputs": [
        {
          "output_type": "stream",
          "name": "stdout",
          "text": [
            "[1, 3, 5]\n",
            "[7, 9, 11]\n",
            "[18, 16, 14]\n"
          ]
        }
      ]
    },
    {
      "cell_type": "code",
      "source": [
        "arr = [[11, 12, 13, 14],\n",
        "       [44, 55, 66, 87],\n",
        "       [81, 91, 10, 111],\n",
        "       [56, 16, 17, 89]]\n",
        "\n",
        "for _ in range(3):\n",
        "    print(arr[_].pop())"
      ],
      "metadata": {
        "colab": {
          "base_uri": "https://localhost:8080/"
        },
        "id": "54PqPBFFBHCp",
        "outputId": "f39a2180-e4a4-4a45-d3bc-1a3236dbfc95"
      },
      "execution_count": 33,
      "outputs": [
        {
          "output_type": "stream",
          "name": "stdout",
          "text": [
            "14\n",
            "87\n",
            "111\n"
          ]
        }
      ]
    }
  ]
}